{
 "cells": [
  {
   "cell_type": "markdown",
   "id": "54b28d92",
   "metadata": {},
   "source": [
    "### One-hot encoding"
   ]
  },
  {
   "cell_type": "code",
   "execution_count": 2,
   "id": "81bdda36",
   "metadata": {},
   "outputs": [],
   "source": [
    "import matplotlib.pyplot as plt\n",
    "import pandas as pd"
   ]
  },
  {
   "cell_type": "code",
   "execution_count": 6,
   "id": "0be4e970",
   "metadata": {},
   "outputs": [
    {
     "data": {
      "text/plain": [
       "(array([[2.2, 4, 'Home'],\n",
       "        [4.5, 2, 'Library'],\n",
       "        [1.6, 5, 'Caffee'],\n",
       "        [3.6, 3, 'Caffee'],\n",
       "        [10.0, 0, 'Library'],\n",
       "        [9.3, 0, 'Home'],\n",
       "        [6.4, 1, 'Library'],\n",
       "        [5.7, 2, 'Library'],\n",
       "        [5.5, 2, 'Library'],\n",
       "        [7.2, 1, 'Home'],\n",
       "        [7.4, 1, 'Caffee'],\n",
       "        [8.3, 1, 'Caffee'],\n",
       "        [2.6, 5, 'Caffee'],\n",
       "        [8.7, 3, 'Caffee'],\n",
       "        [9.1, 3, 'Home'],\n",
       "        [1.2, 6, 'Library'],\n",
       "        [3.1, 5, 'Library'],\n",
       "        [4.8, 4, 'Caffee'],\n",
       "        [6.9, 3, 'Library'],\n",
       "        [10.2, 0, 'Caffee']], dtype=object),\n",
       " array([ 20,  42,  15,  35,  99,  91,  63,  58,  57,  70,  75,  81,  28,\n",
       "         89,  90,  10,  32,  50,  71, 100], dtype=int64))"
      ]
     },
     "execution_count": 6,
     "metadata": {},
     "output_type": "execute_result"
    }
   ],
   "source": [
    "dataset = pd.read_csv('hour_score1.csv')\n",
    "dataset\n",
    "X = dataset.iloc[:,:-1].values\n",
    "y = dataset.iloc[:,-1].values\n",
    "X, y"
   ]
  },
  {
   "cell_type": "code",
   "execution_count": 7,
   "id": "28085e28",
   "metadata": {},
   "outputs": [
    {
     "data": {
      "text/plain": [
       "array([[1.0, 0.0, 2.2, 4],\n",
       "       [0.0, 1.0, 4.5, 2],\n",
       "       [0.0, 0.0, 1.6, 5],\n",
       "       [0.0, 0.0, 3.6, 3],\n",
       "       [0.0, 1.0, 10.0, 0],\n",
       "       [1.0, 0.0, 9.3, 0],\n",
       "       [0.0, 1.0, 6.4, 1],\n",
       "       [0.0, 1.0, 5.7, 2],\n",
       "       [0.0, 1.0, 5.5, 2],\n",
       "       [1.0, 0.0, 7.2, 1],\n",
       "       [0.0, 0.0, 7.4, 1],\n",
       "       [0.0, 0.0, 8.3, 1],\n",
       "       [0.0, 0.0, 2.6, 5],\n",
       "       [0.0, 0.0, 8.7, 3],\n",
       "       [1.0, 0.0, 9.1, 3],\n",
       "       [0.0, 1.0, 1.2, 6],\n",
       "       [0.0, 1.0, 3.1, 5],\n",
       "       [0.0, 0.0, 4.8, 4],\n",
       "       [0.0, 1.0, 6.9, 3],\n",
       "       [0.0, 0.0, 10.2, 0]], dtype=object)"
      ]
     },
     "execution_count": 7,
     "metadata": {},
     "output_type": "execute_result"
    }
   ],
   "source": [
    "from sklearn.compose import ColumnTransformer\n",
    "from sklearn.preprocessing import OneHotEncoder\n",
    "ct = ColumnTransformer(transformers=[('encoder', OneHotEncoder(drop='first'), [2])], remainder='passthrough')\n",
    "X = ct.fit_transform(X)\n",
    "X"
   ]
  },
  {
   "cell_type": "markdown",
   "id": "aba5b7a1",
   "metadata": {},
   "source": [
    "### 데이터 세트 분리"
   ]
  },
  {
   "cell_type": "code",
   "execution_count": 8,
   "id": "7876e1cb",
   "metadata": {},
   "outputs": [],
   "source": [
    "from sklearn.model_selection import train_test_split\n",
    "X_train, X_test, y_train, y_test = train_test_split(X, y, test_size=0.2, random_state=0)"
   ]
  },
  {
   "cell_type": "markdown",
   "id": "531da75e",
   "metadata": {},
   "source": [
    "### 학습 (다중 선형 회귀)"
   ]
  },
  {
   "cell_type": "code",
   "execution_count": 9,
   "id": "b92e9189",
   "metadata": {},
   "outputs": [
    {
     "data": {
      "text/plain": [
       "LinearRegression()"
      ]
     },
     "execution_count": 9,
     "metadata": {},
     "output_type": "execute_result"
    }
   ],
   "source": [
    "from sklearn.linear_model import LinearRegression\n",
    "reg = LinearRegression()\n",
    "reg.fit(X_train, y_train)"
   ]
  },
  {
   "cell_type": "markdown",
   "id": "d19ac38c",
   "metadata": {},
   "source": [
    "### 예측 값과 실제 값 비교 (테스트 세트)"
   ]
  },
  {
   "cell_type": "code",
   "execution_count": 10,
   "id": "174d0222",
   "metadata": {},
   "outputs": [
    {
     "data": {
      "text/plain": [
       "array([ 69.2511661 ,  43.90194574, 102.35499174,  54.23643875])"
      ]
     },
     "execution_count": 10,
     "metadata": {},
     "output_type": "execute_result"
    }
   ],
   "source": [
    "y_pred = reg.predict(X_test)\n",
    "y_pred"
   ]
  },
  {
   "cell_type": "code",
   "execution_count": 11,
   "id": "e2a81cf4",
   "metadata": {},
   "outputs": [
    {
     "data": {
      "text/plain": [
       "array([ 71,  42, 100,  57], dtype=int64)"
      ]
     },
     "execution_count": 11,
     "metadata": {},
     "output_type": "execute_result"
    }
   ],
   "source": [
    "y_test"
   ]
  },
  {
   "cell_type": "code",
   "execution_count": 12,
   "id": "fcd78faa",
   "metadata": {},
   "outputs": [
    {
     "data": {
      "text/plain": [
       "array([-2.11076377, -0.63931016, 10.33449301,  0.54643714])"
      ]
     },
     "execution_count": 12,
     "metadata": {},
     "output_type": "execute_result"
    }
   ],
   "source": [
    "reg.coef_"
   ]
  },
  {
   "cell_type": "code",
   "execution_count": 13,
   "id": "14c682aa",
   "metadata": {},
   "outputs": [
    {
     "data": {
      "text/plain": [
       "-3.056836909082122"
      ]
     },
     "execution_count": 13,
     "metadata": {},
     "output_type": "execute_result"
    }
   ],
   "source": [
    "reg.intercept_"
   ]
  },
  {
   "cell_type": "markdown",
   "id": "9c34d600",
   "metadata": {},
   "source": [
    "### 모델 평가"
   ]
  },
  {
   "cell_type": "code",
   "execution_count": 14,
   "id": "20e4bded",
   "metadata": {},
   "outputs": [
    {
     "data": {
      "text/plain": [
       "0.998461490995052"
      ]
     },
     "execution_count": 14,
     "metadata": {},
     "output_type": "execute_result"
    }
   ],
   "source": [
    "reg.score(X_train, y_train)"
   ]
  },
  {
   "cell_type": "code",
   "execution_count": 15,
   "id": "d2d3ca63",
   "metadata": {},
   "outputs": [
    {
     "data": {
      "text/plain": [
       "0.98914211343024"
      ]
     },
     "execution_count": 15,
     "metadata": {},
     "output_type": "execute_result"
    }
   ],
   "source": [
    "reg.score(X_test, y_test)"
   ]
  },
  {
   "cell_type": "markdown",
   "id": "0049a37d",
   "metadata": {},
   "source": [
    "### 다양한 평가 지표 (회귀 모델)"
   ]
  },
  {
   "cell_type": "markdown",
   "id": "da138279",
   "metadata": {},
   "source": [
    "1. MAE (Mean Absolute Error)\n",
    "2. MSE (Mean Squared Error)\n",
    "3. RMSE (Root Mean Squared Error)\n",
    "4. R2: 결정 계수\n",
    "R2는 1에 가까울수록, 나머지는 0에 가까울수록 좋음."
   ]
  },
  {
   "cell_type": "code",
   "execution_count": 16,
   "id": "c19731c6",
   "metadata": {},
   "outputs": [
    {
     "data": {
      "text/plain": [
       "2.192333160201615"
      ]
     },
     "execution_count": 16,
     "metadata": {},
     "output_type": "execute_result"
    }
   ],
   "source": [
    "from sklearn.metrics import mean_absolute_error\n",
    "mean_absolute_error(y_test, y_pred)"
   ]
  },
  {
   "cell_type": "code",
   "execution_count": 17,
   "id": "66642dac",
   "metadata": {},
   "outputs": [
    {
     "data": {
      "text/plain": [
       "4.964768634022726"
      ]
     },
     "execution_count": 17,
     "metadata": {},
     "output_type": "execute_result"
    }
   ],
   "source": [
    "from sklearn.metrics import mean_squared_error\n",
    "mean_squared_error(y_test, y_pred)"
   ]
  },
  {
   "cell_type": "code",
   "execution_count": 19,
   "id": "403f5837",
   "metadata": {},
   "outputs": [
    {
     "data": {
      "text/plain": [
       "2.2281760778768644"
      ]
     },
     "execution_count": 19,
     "metadata": {},
     "output_type": "execute_result"
    }
   ],
   "source": [
    "from sklearn.metrics import mean_squared_error\n",
    "mean_squared_error(y_test, y_pred, squared=False)"
   ]
  },
  {
   "cell_type": "code",
   "execution_count": 20,
   "id": "1c0a5aa5",
   "metadata": {},
   "outputs": [
    {
     "data": {
      "text/plain": [
       "0.98914211343024"
      ]
     },
     "execution_count": 20,
     "metadata": {},
     "output_type": "execute_result"
    }
   ],
   "source": [
    "from sklearn.metrics import r2_score\n",
    "r2_score(y_test, y_pred)"
   ]
  },
  {
   "cell_type": "code",
   "execution_count": null,
   "id": "ce3ebea3",
   "metadata": {},
   "outputs": [],
   "source": []
  }
 ],
 "metadata": {
  "kernelspec": {
   "display_name": "Python 3",
   "language": "python",
   "name": "python3"
  },
  "language_info": {
   "codemirror_mode": {
    "name": "ipython",
    "version": 3
   },
   "file_extension": ".py",
   "mimetype": "text/x-python",
   "name": "python",
   "nbconvert_exporter": "python",
   "pygments_lexer": "ipython3",
   "version": "3.7.7"
  }
 },
 "nbformat": 4,
 "nbformat_minor": 5
}
