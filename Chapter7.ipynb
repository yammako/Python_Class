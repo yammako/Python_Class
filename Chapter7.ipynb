{
 "cells": [
  {
   "cell_type": "markdown",
   "id": "2c898beb",
   "metadata": {},
   "source": [
    "## If 문"
   ]
  },
  {
   "cell_type": "code",
   "execution_count": 1,
   "id": "13123c59",
   "metadata": {},
   "outputs": [
    {
     "name": "stdout",
     "output_type": "stream",
     "text": [
      "준비물 필요 없어요.\n",
      "오늘 날씨는 어때요? 비\n",
      "우산을 챙기세요.\n",
      "기온은 어때요? 36\n",
      "너무 더워요. 나가지 마세요.\n"
     ]
    }
   ],
   "source": [
    "weather = \"맑음\"\n",
    "if weather == \"비\":\n",
    "    print(\"우산을 챙기세요.\")\n",
    "elif weather == \"미세먼지\":\n",
    "    print(\"마스크를 챙기세요.\")\n",
    "else:\n",
    "    print(\"준비물 필요 없어요.\")\n",
    "\n",
    "weather = input(\"오늘 날씨는 어때요? \")     # input은 문자 데이터를 입력받는 명령어\n",
    "if weather == \"비\" or weather == \"눈\":\n",
    "    print(\"우산을 챙기세요.\")\n",
    "elif weather == \"미세먼지\":\n",
    "    print(\"마스크를 챙기세요.\")\n",
    "else:\n",
    "    print(\"준비물 필요 없어요.\")\n",
    "\n",
    "temp = int(input(\"기온은 어때요? \"))\n",
    "if temp >= 30:\n",
    "    print(\"너무 더워요. 나가지 마세요.\")\n",
    "elif temp >= 10 and temp < 30:\n",
    "    print(\"괜찮은 날씨에요.\")\n",
    "elif 0 <= temp < 10:\n",
    "    print(\"외투를 챙기세요.\")\n",
    "else:\n",
    "    print(\"너무 추워요. 나가지 마세요.\")"
   ]
  },
  {
   "cell_type": "markdown",
   "id": "6e8156a8",
   "metadata": {},
   "source": [
    "## 반복문 for"
   ]
  },
  {
   "cell_type": "code",
   "execution_count": 2,
   "id": "b34ac6db",
   "metadata": {},
   "outputs": [
    {
     "name": "stdout",
     "output_type": "stream",
     "text": [
      "대기번호 : 1\n",
      "대기번호 : 2\n",
      "대기번호 : 3\n",
      "대기번호 : 4\n"
     ]
    }
   ],
   "source": [
    "print(\"대기번호 : 1\")\n",
    "print(\"대기번호 : 2\")\n",
    "print(\"대기번호 : 3\")\n",
    "print(\"대기번호 : 4\")"
   ]
  },
  {
   "cell_type": "markdown",
   "id": "f4d94c5a",
   "metadata": {},
   "source": [
    "### 대기번호가 많으면 위의 문장을 많이 작성해야 하므로 번거롭다. 이 때 for를 사용할 수 있다."
   ]
  },
  {
   "cell_type": "code",
   "execution_count": 4,
   "id": "fced266a",
   "metadata": {},
   "outputs": [
    {
     "name": "stdout",
     "output_type": "stream",
     "text": [
      "대기번호 : 0\n",
      "대기번호 : 1\n",
      "대기번호 : 2\n",
      "대기번호 : 3\n",
      "대기번호 : 4\n",
      "대기번호 : 0\n",
      "대기번호 : 1\n",
      "대기번호 : 2\n",
      "대기번호 : 3\n",
      "대기번호 : 4\n",
      "대기번호 : 1\n",
      "대기번호 : 2\n",
      "대기번호 : 3\n",
      "대기번호 : 4\n",
      "대기번호 : 5\n",
      "아이언맨, 커피가 준비되었습니다.\n",
      "토르, 커피가 준비되었습니다.\n",
      "아이엠 그루트, 커피가 준비되었습니다.\n"
     ]
    }
   ],
   "source": [
    "for waiting_no in [0, 1, 2, 3, 4]:\n",
    "    print(\"대기번호 : {0}\".format(waiting_no))\n",
    "\n",
    "for waiting_no in range(5):     # 0, 1, 2, 3, 4\n",
    "    print(\"대기번호 : {0}\".format(waiting_no))\n",
    "\n",
    "for waiting_no in range(1, 6):     # 1, 2, 3, 4, 5\n",
    "    print(\"대기번호 : {0}\".format(waiting_no))\n",
    "\n",
    "starbucks = [\"아이언맨\", \"토르\", \"아이엠 그루트\"]\n",
    "for customer in starbucks:\n",
    "    print(\"{0}, 커피가 준비되었습니다.\".format(customer))"
   ]
  },
  {
   "cell_type": "markdown",
   "id": "c828a9ac",
   "metadata": {},
   "source": [
    "## 반복문 while"
   ]
  },
  {
   "cell_type": "code",
   "execution_count": 5,
   "id": "a2336544",
   "metadata": {},
   "outputs": [
    {
     "name": "stdout",
     "output_type": "stream",
     "text": [
      "토르, 커피가 준비 되었습니다. 5 번 남았어요.\n",
      "토르, 커피가 준비 되었습니다. 4 번 남았어요.\n",
      "토르, 커피가 준비 되었습니다. 3 번 남았어요.\n",
      "토르, 커피가 준비 되었습니다. 2 번 남았어요.\n",
      "토르, 커피가 준비 되었습니다. 1 번 남았어요.\n",
      "커피는 폐기처분되었습니다.\n",
      "토르, 커피가 준비 되었습니다.\n",
      "이름이 어떻게 되세요? 아이언맨\n",
      "토르, 커피가 준비 되었습니다.\n",
      "이름이 어떻게 되세요? 샘\n",
      "토르, 커피가 준비 되었습니다.\n",
      "이름이 어떻게 되세요? 토르\n"
     ]
    }
   ],
   "source": [
    "customer = \"토르\"\n",
    "index = 5\n",
    "while index >= 1:\n",
    "    print(\"{0}, 커피가 준비 되었습니다. {1} 번 남았어요.\".format(customer, index))\n",
    "    index -= 1\n",
    "    if index == 0:\n",
    "        print(\"커피는 폐기처분되었습니다.\")\n",
    "\n",
    "# customer = \"아이언맨\"\n",
    "# index = 1\n",
    "# while True:     # 무한 루프\n",
    "#     print(\"{0}, 커피가 준비 되었습니다. 호출 {1} 회\".format(customer, index))\n",
    "#     index += 1\n",
    "\n",
    "customer = \"토르\"\n",
    "person = \"Unknown\"\n",
    "\n",
    "while person != customer:\n",
    "    print(\"{0}, 커피가 준비 되었습니다.\".format(customer))\n",
    "    person = input(\"이름이 어떻게 되세요? \")"
   ]
  },
  {
   "cell_type": "markdown",
   "id": "616a41e8",
   "metadata": {},
   "source": [
    "## continue와 break"
   ]
  },
  {
   "cell_type": "code",
   "execution_count": 6,
   "id": "aaffa467",
   "metadata": {},
   "outputs": [
    {
     "name": "stdout",
     "output_type": "stream",
     "text": [
      "1 번, 책을 읽어봐\n",
      "3 번, 책을 읽어봐\n",
      "4 번, 책을 읽어봐\n",
      "6 번, 책을 읽어봐\n",
      "오늘 수업 여기까지. 7번은 교무실로 따라와.\n"
     ]
    }
   ],
   "source": [
    "absent = [2, 5]     # 결석\n",
    "no_book = [7]       # 책이 없는 학생\n",
    "for student in range(1, 11):    # 1, 2, 3, 4, 5, 6, 7, 8, 9, 10\n",
    "    if student in absent:\n",
    "        continue\n",
    "    elif student in no_book:\n",
    "        print(\"오늘 수업 여기까지. {0}번은 교무실로 따라와.\".format(student))\n",
    "        break\n",
    "    print(\"{0} 번, 책을 읽어봐\".format(student))"
   ]
  },
  {
   "cell_type": "markdown",
   "id": "386030be",
   "metadata": {},
   "source": [
    "## 한 줄로 for 구문 만들기\n",
    "### 출석번호가 1, 2, 3, 4, 5가 있는데 출석번호 형식이 바뀌어서 100을 붙이기로 함 -> 101, 102, 103, 104, 105"
   ]
  },
  {
   "cell_type": "code",
   "execution_count": 7,
   "id": "9d007798",
   "metadata": {},
   "outputs": [
    {
     "name": "stdout",
     "output_type": "stream",
     "text": [
      "[1, 2, 3, 4, 5]\n",
      "[101, 102, 103, 104, 105]\n",
      "[8, 4, 10]\n",
      "['IRON MAN', 'THOR', 'I AM GROOT']\n"
     ]
    }
   ],
   "source": [
    "students = [1,2,3,4,5]\n",
    "print(students)\n",
    "students = [i+100 for i in students]\n",
    "print(students)\n",
    "\n",
    "# 학생 이름을 길이로 변환\n",
    "students = [\"Iron man\", \"Thor\", \"I am groot\"]\n",
    "students = [len(i) for i in students]\n",
    "print(students)\n",
    "\n",
    "# 학생 이름을 대문자로 변환\n",
    "students = [\"Iron man\", \"Thor\", \"I am groot\"]\n",
    "students = [i.upper() for i in students]\n",
    "print(students)"
   ]
  },
  {
   "cell_type": "markdown",
   "id": "04675fc7",
   "metadata": {},
   "source": [
    "## Quiz\n",
    "당신은 Cocoa 서비스를 이용하는 택시 기사님입니다.\n",
    "\n",
    "50명의 승객과 매칭 기회가 있을 때, 총 탑승 승객 수를 구하는 프로그램을 작성하시오.\n",
    "\n",
    "조건 1 : 승객별 운행 소요 시간은 5분 ~ 50분 사이의 난수로 정해집니다.\n",
    "\n",
    "조건 2 : 당신은 소요 시간 5분 ~ 15분 사이의 승객만 매칭해야 합니다.\n",
    "\n",
    "\n",
    "출력문 예제\n",
    "\n",
    "[O] 1번째 손님 (소요시간: 15분)\n",
    "\n",
    "[ ] 2번째 손님 (소요시간: 50분)\n",
    "\n",
    "[O] 3번째 손님 (소요시간: 5분)\n",
    "\n",
    "...\n",
    "\n",
    "[ ] 50번째 손님 (소요시간: 16분)\n",
    "\n",
    "총 탑승 승객 : 2분"
   ]
  },
  {
   "cell_type": "code",
   "execution_count": 8,
   "id": "b4a22009",
   "metadata": {},
   "outputs": [
    {
     "name": "stdout",
     "output_type": "stream",
     "text": [
      "[ ] 1번째 손님 (소요시간: 36분)\n",
      "[ ] 2번째 손님 (소요시간: 31분)\n",
      "[ ] 3번째 손님 (소요시간: 37분)\n",
      "[ ] 4번째 손님 (소요시간: 17분)\n",
      "[ ] 5번째 손님 (소요시간: 33분)\n",
      "[ ] 6번째 손님 (소요시간: 39분)\n",
      "[ ] 7번째 손님 (소요시간: 32분)\n",
      "[ ] 8번째 손님 (소요시간: 31분)\n",
      "[O] 9번째 손님 (소요시간: 15분)\n",
      "[O] 10번째 손님 (소요시간: 10분)\n",
      "[ ] 11번째 손님 (소요시간: 34분)\n",
      "[ ] 12번째 손님 (소요시간: 26분)\n",
      "[ ] 13번째 손님 (소요시간: 22분)\n",
      "[ ] 14번째 손님 (소요시간: 26분)\n",
      "[ ] 15번째 손님 (소요시간: 36분)\n",
      "[ ] 16번째 손님 (소요시간: 40분)\n",
      "[O] 17번째 손님 (소요시간: 9분)\n",
      "[ ] 18번째 손님 (소요시간: 44분)\n",
      "[ ] 19번째 손님 (소요시간: 19분)\n",
      "[ ] 20번째 손님 (소요시간: 41분)\n",
      "[ ] 21번째 손님 (소요시간: 21분)\n",
      "[ ] 22번째 손님 (소요시간: 28분)\n",
      "[O] 23번째 손님 (소요시간: 9분)\n",
      "[O] 24번째 손님 (소요시간: 13분)\n",
      "[ ] 25번째 손님 (소요시간: 36분)\n",
      "[ ] 26번째 손님 (소요시간: 19분)\n",
      "[ ] 27번째 손님 (소요시간: 46분)\n",
      "[ ] 28번째 손님 (소요시간: 19분)\n",
      "[ ] 29번째 손님 (소요시간: 36분)\n",
      "[ ] 30번째 손님 (소요시간: 50분)\n",
      "[O] 31번째 손님 (소요시간: 7분)\n",
      "[O] 32번째 손님 (소요시간: 8분)\n",
      "[ ] 33번째 손님 (소요시간: 24분)\n",
      "[ ] 34번째 손님 (소요시간: 24분)\n",
      "[ ] 35번째 손님 (소요시간: 32분)\n",
      "[O] 36번째 손님 (소요시간: 11분)\n",
      "[ ] 37번째 손님 (소요시간: 21분)\n",
      "[ ] 38번째 손님 (소요시간: 24분)\n",
      "[ ] 39번째 손님 (소요시간: 33분)\n",
      "[O] 40번째 손님 (소요시간: 15분)\n",
      "[ ] 41번째 손님 (소요시간: 16분)\n",
      "[O] 42번째 손님 (소요시간: 13분)\n",
      "[O] 43번째 손님 (소요시간: 6분)\n",
      "[ ] 44번째 손님 (소요시간: 27분)\n",
      "[O] 45번째 손님 (소요시간: 9분)\n",
      "[ ] 46번째 손님 (소요시간: 47분)\n",
      "[ ] 47번째 손님 (소요시간: 40분)\n",
      "[O] 48번째 손님 (소요시간: 9분)\n",
      "[ ] 49번째 손님 (소요시간: 32분)\n",
      "[ ] 50번째 손님 (소요시간: 48분)\n",
      "총 탑승 승객 : 13분\n"
     ]
    }
   ],
   "source": [
    "from random import *\n",
    "customer_no = range(1, 51)\n",
    "total_customer_no = 0\n",
    "for i in customer_no:\n",
    "    driving_time = randint(5, 50)\n",
    "    if 5 <= driving_time <= 15:\n",
    "        print(\"[O] {0}번째 손님 (소요시간: {1}분)\".format(i, driving_time))\n",
    "        total_customer_no += 1\n",
    "    else:\n",
    "        print(\"[ ] {0}번째 손님 (소요시간: {1}분)\".format(i, driving_time))\n",
    "print(\"총 탑승 승객 : {0}분\".format(total_customer_no))"
   ]
  },
  {
   "cell_type": "code",
   "execution_count": null,
   "id": "9899e954",
   "metadata": {},
   "outputs": [],
   "source": []
  }
 ],
 "metadata": {
  "kernelspec": {
   "display_name": "Python 3",
   "language": "python",
   "name": "python3"
  },
  "language_info": {
   "codemirror_mode": {
    "name": "ipython",
    "version": 3
   },
   "file_extension": ".py",
   "mimetype": "text/x-python",
   "name": "python",
   "nbconvert_exporter": "python",
   "pygments_lexer": "ipython3",
   "version": "3.7.7"
  }
 },
 "nbformat": 4,
 "nbformat_minor": 5
}
