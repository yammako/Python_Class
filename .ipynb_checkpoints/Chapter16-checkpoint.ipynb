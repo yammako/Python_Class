{
 "cells": [
  {
   "cell_type": "markdown",
   "id": "5ac4cad5",
   "metadata": {},
   "source": [
    "## 패키지 (모듈을 모아둔 집합)\n",
    "### travel이란 폴더에 thailand.py와 vietnam.py, 그리고 __init__.py 라는 파일이 있다고 하자.\n",
    "### thailand.py의 내용은 다음과 같다."
   ]
  },
  {
   "cell_type": "code",
   "execution_count": 1,
   "id": "1bcd6393",
   "metadata": {},
   "outputs": [
    {
     "name": "stdout",
     "output_type": "stream",
     "text": [
      "Thailand 모듈을 직접 실행\n",
      "이 문장은 모듈을 직접 실행할 때만 실행되요.\n",
      "[태국 패키지 3박 5일] 방콕, 파타야 여행 (야시장 투어) 50만원\n"
     ]
    }
   ],
   "source": [
    "class ThailandPackage:\n",
    "    def detail(self):\n",
    "        print(\"[태국 패키지 3박 5일] 방콕, 파타야 여행 (야시장 투어) 50만원\")\n",
    "\n",
    "if __name__ == \"__main__\":\n",
    "    print(\"Thailand 모듈을 직접 실행\")\n",
    "    print(\"이 문장은 모듈을 직접 실행할 때만 실행되요.\")\n",
    "    trip_to = ThailandPackage()\n",
    "    trip_to.detail()\n",
    "else:\n",
    "    print(\"Thailand 외부에서 모듈 호출\")"
   ]
  },
  {
   "cell_type": "markdown",
   "id": "efd2168e",
   "metadata": {},
   "source": [
    "### vietnam.py의 내용은 다음과 같다."
   ]
  },
  {
   "cell_type": "code",
   "execution_count": 2,
   "id": "40156112",
   "metadata": {},
   "outputs": [],
   "source": [
    "class VietnamPackage:\n",
    "    def detail(self):\n",
    "        print(\"[베트남 패키지 3박 5일] 다낭 효도 여행 60만원\")"
   ]
  },
  {
   "cell_type": "markdown",
   "id": "8552b722",
   "metadata": {},
   "source": [
    "### \\__init\\__.py의 내용은 다음과 같다."
   ]
  },
  {
   "cell_type": "code",
   "execution_count": 3,
   "id": "55deadf5",
   "metadata": {},
   "outputs": [],
   "source": [
    "__all__ = [\"vietnam\", \"thailand\"]"
   ]
  },
  {
   "cell_type": "markdown",
   "id": "6d8a8406",
   "metadata": {},
   "source": [
    "### 이제 travel이란 패키지를 불러와서 프로그램을 만들어 보자."
   ]
  },
  {
   "cell_type": "code",
   "execution_count": 4,
   "id": "1715c9c4",
   "metadata": {},
   "outputs": [
    {
     "name": "stdout",
     "output_type": "stream",
     "text": [
      "Thailand 외부에서 모듈 호출\n",
      "[태국 패키지 3박 5일] 방콕, 파타야 여행 (야시장 투어) 50만원\n",
      "[태국 패키지 3박 5일] 방콕, 파타야 여행 (야시장 투어) 50만원\n",
      "[베트남 패키지 3박 5일] 다낭 효도 여행 60만원\n"
     ]
    }
   ],
   "source": [
    "import travel.thailand\n",
    "trip_to = travel.thailand.ThailandPackage()\n",
    "trip_to.detail()\n",
    "\n",
    "from travel.thailand import ThailandPackage\n",
    "trip_to = ThailandPackage()\n",
    "trip_to.detail()\n",
    "\n",
    "from travel import vietnam\n",
    "trip_to = vietnam.VietnamPackage()\n",
    "trip_to.detail()"
   ]
  },
  {
   "cell_type": "markdown",
   "id": "8839931b",
   "metadata": {},
   "source": [
    "### \\__all\\__에 모듈명을 모두 작성해 두었으므로 다음과 같이 실행해도 된다."
   ]
  },
  {
   "cell_type": "code",
   "execution_count": 5,
   "id": "4ae9f45f",
   "metadata": {},
   "outputs": [
    {
     "name": "stdout",
     "output_type": "stream",
     "text": [
      "[베트남 패키지 3박 5일] 다낭 효도 여행 60만원\n",
      "[태국 패키지 3박 5일] 방콕, 파타야 여행 (야시장 투어) 50만원\n"
     ]
    }
   ],
   "source": [
    "from travel import *\n",
    "trip_to = vietnam.VietnamPackage()\n",
    "trip_to.detail()\n",
    "trip_to = thailand.ThailandPackage()\n",
    "trip_to.detail()"
   ]
  },
  {
   "cell_type": "markdown",
   "id": "b7eb728c",
   "metadata": {},
   "source": [
    "### 패키지가 동일한 경로에 있지 않을 때"
   ]
  },
  {
   "cell_type": "code",
   "execution_count": 6,
   "id": "0fe950be",
   "metadata": {},
   "outputs": [
    {
     "name": "stdout",
     "output_type": "stream",
     "text": [
      "C:\\Users\\3DOS\\anaconda3\\lib\\random.py\n",
      "C:\\Users\\3DOS\\Desktop\\Python_Tutorial\\travel\\thailand.py\n"
     ]
    }
   ],
   "source": [
    "import inspect\n",
    "import random\n",
    "print(inspect.getfile(random))\n",
    "print(inspect.getfile(thailand))"
   ]
  },
  {
   "cell_type": "markdown",
   "id": "4ab7d366",
   "metadata": {},
   "source": [
    "### random.py 가 있는 파일 경로에 패키지를 옮겨서 실행하면 된다."
   ]
  },
  {
   "cell_type": "code",
   "execution_count": null,
   "id": "f27c63e3",
   "metadata": {},
   "outputs": [],
   "source": []
  }
 ],
 "metadata": {
  "kernelspec": {
   "display_name": "Python 3",
   "language": "python",
   "name": "python3"
  },
  "language_info": {
   "codemirror_mode": {
    "name": "ipython",
    "version": 3
   },
   "file_extension": ".py",
   "mimetype": "text/x-python",
   "name": "python",
   "nbconvert_exporter": "python",
   "pygments_lexer": "ipython3",
   "version": "3.7.7"
  }
 },
 "nbformat": 4,
 "nbformat_minor": 5
}
