{
 "cells": [
  {
   "cell_type": "markdown",
   "id": "918a497b",
   "metadata": {},
   "source": [
    "## 리스트\n",
    "### 지하철 칸별로 10명, 20명, 30명"
   ]
  },
  {
   "cell_type": "code",
   "execution_count": 1,
   "id": "3a3cdcd8",
   "metadata": {},
   "outputs": [],
   "source": [
    "subway1 = 10\n",
    "subway2 = 20\n",
    "subway3 = 30"
   ]
  },
  {
   "cell_type": "markdown",
   "id": "ef0e8d20",
   "metadata": {},
   "source": [
    "### 리스트를 사용하여 세 변수를 합침"
   ]
  },
  {
   "cell_type": "code",
   "execution_count": 2,
   "id": "2a858527",
   "metadata": {},
   "outputs": [
    {
     "name": "stdout",
     "output_type": "stream",
     "text": [
      "[10, 20, 30]\n"
     ]
    }
   ],
   "source": [
    "subway = [10, 20, 30]\n",
    "print(subway)"
   ]
  },
  {
   "cell_type": "code",
   "execution_count": 3,
   "id": "203fb2d5",
   "metadata": {},
   "outputs": [
    {
     "name": "stdout",
     "output_type": "stream",
     "text": [
      "['유재석', '조세호', '박명수']\n"
     ]
    }
   ],
   "source": [
    "subway = [\"유재석\", \"조세호\", \"박명수\"]\n",
    "print(subway)"
   ]
  },
  {
   "cell_type": "markdown",
   "id": "47a13bb0",
   "metadata": {},
   "source": [
    "### 데이터가 어디에 있는지 알고 싶다면 (예. 조세호가 몇 번째 인지?)"
   ]
  },
  {
   "cell_type": "code",
   "execution_count": 4,
   "id": "ca59eb4d",
   "metadata": {},
   "outputs": [
    {
     "name": "stdout",
     "output_type": "stream",
     "text": [
      "1\n"
     ]
    }
   ],
   "source": [
    "print(subway.index(\"조세호\"))"
   ]
  },
  {
   "cell_type": "markdown",
   "id": "e612b0c7",
   "metadata": {},
   "source": [
    "### 파이썬에서는 데이터의 시작 위치가 0 부터이다."
   ]
  },
  {
   "cell_type": "markdown",
   "id": "b16b0e45",
   "metadata": {},
   "source": [
    "### 데이터를 추가하고 싶다면"
   ]
  },
  {
   "cell_type": "code",
   "execution_count": 5,
   "id": "8726f494",
   "metadata": {},
   "outputs": [
    {
     "name": "stdout",
     "output_type": "stream",
     "text": [
      "['유재석', '조세호', '박명수', '하하']\n"
     ]
    }
   ],
   "source": [
    "subway.append(\"하하\")\n",
    "print(subway)"
   ]
  },
  {
   "cell_type": "markdown",
   "id": "cc3f0eb5",
   "metadata": {},
   "source": [
    "### 특정 데이터 사이에 새로운 데이터를 추가하고 싶다면 (예. 유재석과 조세호 사이에 정형돈을 추가한다면)"
   ]
  },
  {
   "cell_type": "code",
   "execution_count": 6,
   "id": "41b5865b",
   "metadata": {},
   "outputs": [
    {
     "name": "stdout",
     "output_type": "stream",
     "text": [
      "['유재석', '정형돈', '조세호', '박명수', '하하']\n"
     ]
    }
   ],
   "source": [
    "subway.insert(1, \"정형돈\")\n",
    "print(subway)"
   ]
  },
  {
   "cell_type": "markdown",
   "id": "2012a60f",
   "metadata": {},
   "source": [
    "### 뒤에서부터 데이터를 하나씩 빼고 싶다면"
   ]
  },
  {
   "cell_type": "code",
   "execution_count": 7,
   "id": "c1763443",
   "metadata": {},
   "outputs": [
    {
     "name": "stdout",
     "output_type": "stream",
     "text": [
      "하하\n",
      "['유재석', '정형돈', '조세호', '박명수']\n"
     ]
    }
   ],
   "source": [
    "print(subway.pop())\n",
    "print(subway)"
   ]
  },
  {
   "cell_type": "markdown",
   "id": "3c4c36fc",
   "metadata": {},
   "source": [
    "### 같은 데이터가 몇 개 있는지 확인하려면"
   ]
  },
  {
   "cell_type": "code",
   "execution_count": 8,
   "id": "ee3742d7",
   "metadata": {},
   "outputs": [
    {
     "name": "stdout",
     "output_type": "stream",
     "text": [
      "['유재석', '정형돈', '조세호', '박명수', '유재석']\n",
      "2\n"
     ]
    }
   ],
   "source": [
    "subway.append(\"유재석\")\n",
    "print(subway)\n",
    "print(subway.count(\"유재석\"))"
   ]
  },
  {
   "cell_type": "markdown",
   "id": "667677c8",
   "metadata": {},
   "source": [
    "### 데이터를 정렬하려면"
   ]
  },
  {
   "cell_type": "code",
   "execution_count": 9,
   "id": "20291578",
   "metadata": {},
   "outputs": [
    {
     "name": "stdout",
     "output_type": "stream",
     "text": [
      "[1, 2, 3, 4, 5]\n"
     ]
    }
   ],
   "source": [
    "num_list = [5,2,4,3,1]\n",
    "num_list.sort()\n",
    "print(num_list)"
   ]
  },
  {
   "cell_type": "markdown",
   "id": "660bf94c",
   "metadata": {},
   "source": [
    "### 순서를 뒤집으려면"
   ]
  },
  {
   "cell_type": "code",
   "execution_count": 10,
   "id": "6124befd",
   "metadata": {},
   "outputs": [
    {
     "name": "stdout",
     "output_type": "stream",
     "text": [
      "[5, 4, 3, 2, 1]\n"
     ]
    }
   ],
   "source": [
    "num_list.reverse()\n",
    "print(num_list)"
   ]
  },
  {
   "cell_type": "markdown",
   "id": "540cf230",
   "metadata": {},
   "source": [
    "### 모든 데이터 지우기"
   ]
  },
  {
   "cell_type": "code",
   "execution_count": 11,
   "id": "9d939f93",
   "metadata": {},
   "outputs": [
    {
     "name": "stdout",
     "output_type": "stream",
     "text": [
      "[]\n"
     ]
    }
   ],
   "source": [
    "num_list.clear()\n",
    "print(num_list)"
   ]
  },
  {
   "cell_type": "markdown",
   "id": "a91b0e64",
   "metadata": {},
   "source": [
    "### 리스트는 자료형에 구애받지 않는다."
   ]
  },
  {
   "cell_type": "code",
   "execution_count": 12,
   "id": "68f3ab36",
   "metadata": {},
   "outputs": [
    {
     "name": "stdout",
     "output_type": "stream",
     "text": [
      "['조세호', 20, True]\n"
     ]
    }
   ],
   "source": [
    "mix_list = [\"조세호\", 20, True]\n",
    "print(mix_list)"
   ]
  },
  {
   "cell_type": "markdown",
   "id": "4af74cf1",
   "metadata": {},
   "source": [
    "### 리스트 합치기"
   ]
  },
  {
   "cell_type": "code",
   "execution_count": 13,
   "id": "3bd72f53",
   "metadata": {},
   "outputs": [
    {
     "name": "stdout",
     "output_type": "stream",
     "text": [
      "[5, 2, 4, 3, 1, '조세호', 20, True]\n"
     ]
    }
   ],
   "source": [
    "num_list = [5,2,4,3,1]\n",
    "num_list.extend(mix_list)\n",
    "print(num_list)"
   ]
  },
  {
   "cell_type": "code",
   "execution_count": null,
   "id": "f5784845",
   "metadata": {},
   "outputs": [],
   "source": []
  }
 ],
 "metadata": {
  "kernelspec": {
   "display_name": "Python 3",
   "language": "python",
   "name": "python3"
  },
  "language_info": {
   "codemirror_mode": {
    "name": "ipython",
    "version": 3
   },
   "file_extension": ".py",
   "mimetype": "text/x-python",
   "name": "python",
   "nbconvert_exporter": "python",
   "pygments_lexer": "ipython3",
   "version": "3.7.7"
  }
 },
 "nbformat": 4,
 "nbformat_minor": 5
}
