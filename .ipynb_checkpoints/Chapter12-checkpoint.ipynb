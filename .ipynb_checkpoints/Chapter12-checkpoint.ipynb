{
 "cells": [
  {
   "cell_type": "markdown",
   "id": "b394886f",
   "metadata": {},
   "source": [
    "## Class"
   ]
  },
  {
   "cell_type": "code",
   "execution_count": 1,
   "id": "28d6d535",
   "metadata": {},
   "outputs": [
    {
     "name": "stdout",
     "output_type": "stream",
     "text": [
      "마린 유닛이 생성되었습니다.\n",
      "채력 40, 공격력 5\n",
      "\n",
      "탱크 유닛이 생성되었습니다.\n",
      "채력 150, 공격력 35\n",
      "\n",
      "마린 : 1시 방향으로 적군을 공격합니다. [공격력 5]\n",
      "탱크 : 1시 방향으로 적군을 공격합니다. [공격력 35]\n"
     ]
    }
   ],
   "source": [
    "# 마린 : 공격 유닛으로 군인이고 총을 쏠 수 있음\n",
    "name = \"마린\"   # 이름\n",
    "hp = 40         # 체력\n",
    "damage = 5      # 공격력\n",
    "print(\"{0} 유닛이 생성되었습니다.\".format(name))\n",
    "print(\"채력 {0}, 공격력 {1}\\n\".format(hp, damage))\n",
    "\n",
    "# 탱크 : 공격 유닛 포를 쏠 수 있고 일반 모드 / 시즈 모드가 있음\n",
    "tank_name = \"탱크\"\n",
    "tank_hp = 150\n",
    "tank_damage = 35\n",
    "print(\"{0} 유닛이 생성되었습니다.\".format(tank_name))\n",
    "print(\"채력 {0}, 공격력 {1}\\n\".format(tank_hp, tank_damage))\n",
    "\n",
    "def attack(name, location, damage):\n",
    "    print(\"{0} : {1} 방향으로 적군을 공격합니다. [공격력 {2}]\".format(name, location, damage))\n",
    "\n",
    "attack(name, \"1시\", damage)\n",
    "attack(tank_name, \"1시\", tank_damage)"
   ]
  },
  {
   "cell_type": "markdown",
   "id": "fe9bc63a",
   "metadata": {},
   "source": [
    "### 탱크가 하나 더 추가된다면 또 다시 탱크 관련 변수를 만들어 줘야 한다. \n",
    "### 하지만 게임에서 탱크의 수는 매우 많기 때문에 이걸 다 써 줄 수 없다. \n",
    "### 따라서 클래스가 필요하다. \n",
    "### 연관성 있는 변수와 함수를 묶어 둔 집합이 클래스라 생각하면 된다."
   ]
  },
  {
   "cell_type": "code",
   "execution_count": 2,
   "id": "9da218ce",
   "metadata": {},
   "outputs": [
    {
     "name": "stdout",
     "output_type": "stream",
     "text": [
      "마린 유닛이 생성되었습니다.\n",
      "체력 40, 공격력 5\n",
      "마린 유닛이 생성되었습니다.\n",
      "체력 40, 공격력 5\n",
      "탱크 유닛이 생성되었습니다.\n",
      "체력 150, 공격력 35\n"
     ]
    }
   ],
   "source": [
    "class Unit:\n",
    "    def __init__(self, name, hp, damage):\n",
    "        self.name = name\n",
    "        self.hp = hp\n",
    "        self.damage = damage\n",
    "        print(\"{0} 유닛이 생성되었습니다.\".format(self.name))\n",
    "        print(\"체력 {0}, 공격력 {1}\".format(self.hp, self.damage))\n",
    "\n",
    "marine1 = Unit(\"마린\", 40, 5)\n",
    "marine2 = Unit(\"마린\", 40, 5)\n",
    "tank = Unit(\"탱크\", 150, 35)"
   ]
  },
  {
   "cell_type": "markdown",
   "id": "b7e2367e",
   "metadata": {},
   "source": [
    "### __init__ 객체를 생성하는 기본 함수\n",
    "### marine3 = Unit(\"마린\")        에러 발생\n",
    "### marine3 = Unit(\"마린\", 40)    에러 발생\n",
    "### 멤버 변수 : 클래스에서 정의된 변수"
   ]
  },
  {
   "cell_type": "code",
   "execution_count": 3,
   "id": "fa169631",
   "metadata": {},
   "outputs": [
    {
     "name": "stdout",
     "output_type": "stream",
     "text": [
      "레이스 유닛이 생성되었습니다.\n",
      "체력 80, 공격력 5\n",
      "유닛 이름 : 레이스, 공격력 : 5\n",
      "빼앗은 레이스 유닛이 생성되었습니다.\n",
      "체력 80, 공격력 5\n",
      "빼앗은 레이스 는 현재 클로킹 상태입니다.\n"
     ]
    }
   ],
   "source": [
    "# 레이스 : 공중 유닛, 비행기. 클로킹 (상대방에서 보이지 않음)\n",
    "wraith1 = Unit(\"레이스\", 80, 5)\n",
    "print(\"유닛 이름 : {0}, 공격력 : {1}\".format(wraith1.name, wraith1.damage))     # 멤버 변수를 외부에서 사용 가능\n",
    "\n",
    "# 마인드 컨트롤 : 상대방 유닛을 내 것으로 만드는 것 (빼앗는 것)\n",
    "wraith2 = Unit(\"빼앗은 레이스\", 80, 5)\n",
    "wraith2.clocking = True         # 외부 변수를 각 객체에 추가할 수 있음. wraith1에는 clocking 변수가 없음.\n",
    "\n",
    "if wraith2.clocking == True:\n",
    "    print(\"{0} 는 현재 클로킹 상태입니다.\".format(wraith2.name))"
   ]
  },
  {
   "cell_type": "markdown",
   "id": "cd3b7adf",
   "metadata": {},
   "source": [
    "### 메소드"
   ]
  },
  {
   "cell_type": "code",
   "execution_count": 4,
   "id": "4946f24a",
   "metadata": {},
   "outputs": [
    {
     "name": "stdout",
     "output_type": "stream",
     "text": [
      "파이어뱃 : 5시 방향으로 적군을 공격합니다. [공격력 16]\n",
      "파이어뱃 : 25 데미지를 입었습니다.\n",
      "파이어뱃 : 현재 체력은 25 입니다.\n",
      "파이어뱃 : 25 데미지를 입었습니다.\n",
      "파이어뱃 : 현재 체력은 0 입니다.\n",
      "파이어뱃 : 파괴되었습니다.\n"
     ]
    }
   ],
   "source": [
    "class AttackUnit:\n",
    "    def __init__(self, name, hp, damage):\n",
    "        self.name = name\n",
    "        self.hp = hp\n",
    "        self.damage = damage\n",
    "\n",
    "    def attack(self, location):\n",
    "        print(\"{0} : {1} 방향으로 적군을 공격합니다. [공격력 {2}]\".format(self.name, location, self.damage))\n",
    "\n",
    "    def damaged(self, damage):\n",
    "        print(\"{0} : {1} 데미지를 입었습니다.\".format(self.name, damage))\n",
    "        self.hp -= damage\n",
    "        print(\"{0} : 현재 체력은 {1} 입니다.\".format(self.name, self.hp))\n",
    "        if self.hp <= 0:\n",
    "            print(\"{0} : 파괴되었습니다.\".format(self.name))\n",
    "\n",
    "firebat1 = AttackUnit(\"파이어뱃\", 50, 16)\n",
    "firebat1.attack(\"5시\")\n",
    "\n",
    "firebat1.damaged(25)\n",
    "firebat1.damaged(25)"
   ]
  },
  {
   "cell_type": "markdown",
   "id": "4957ee22",
   "metadata": {},
   "source": [
    "### 상속"
   ]
  },
  {
   "cell_type": "code",
   "execution_count": 5,
   "id": "e4fcb573",
   "metadata": {},
   "outputs": [
    {
     "name": "stdout",
     "output_type": "stream",
     "text": [
      "파이어뱃 : 5시 방향으로 적군을 공격합니다. [공격력 16]\n",
      "파이어뱃 : 25 데미지를 입었습니다.\n",
      "파이어뱃 : 현재 체력은 25 입니다.\n",
      "파이어뱃 : 25 데미지를 입었습니다.\n",
      "파이어뱃 : 현재 체력은 0 입니다.\n",
      "파이어뱃 : 파괴되었습니다.\n"
     ]
    }
   ],
   "source": [
    "class Unit:\n",
    "    def __init__(self, name, hp):\n",
    "        self.name = name\n",
    "        self.hp = hp\n",
    "\n",
    "class AttackUnit(Unit):                     # Unit class에서 name과 hp를 상속 받는다.\n",
    "    def __init__(self, name, hp, damage):\n",
    "        Unit.__init__(self, name, hp)       # 상속 받을 때는 __init__를 사용\n",
    "        self.damage = damage        \n",
    "\n",
    "    def attack(self, location):\n",
    "        print(\"{0} : {1} 방향으로 적군을 공격합니다. [공격력 {2}]\".format(self.name, location, self.damage))\n",
    "\n",
    "    def damaged(self, damage):\n",
    "        print(\"{0} : {1} 데미지를 입었습니다.\".format(self.name, damage))\n",
    "        self.hp -= damage\n",
    "        print(\"{0} : 현재 체력은 {1} 입니다.\".format(self.name, self.hp))\n",
    "        if self.hp <= 0:\n",
    "            print(\"{0} : 파괴되었습니다.\".format(self.name))\n",
    "\n",
    "firebat1 = AttackUnit(\"파이어뱃\", 50, 16)\n",
    "firebat1.attack(\"5시\")\n",
    "\n",
    "firebat1.damaged(25)\n",
    "firebat1.damaged(25)"
   ]
  },
  {
   "cell_type": "markdown",
   "id": "1d373cc2",
   "metadata": {},
   "source": [
    "### 다중 상속\n",
    "### 상속을 하는 클래스를 부모클래스, 상속을 받는 클래스를 자식클래스라 함. \n",
    "### 여러 부모에게서 상속을 받는 것을 다중 상속이라 함."
   ]
  },
  {
   "cell_type": "code",
   "execution_count": 6,
   "id": "8689a473",
   "metadata": {},
   "outputs": [
    {
     "name": "stdout",
     "output_type": "stream",
     "text": [
      "발키리 : 3시 방향으로 날아갑니다. [속도 6]\n"
     ]
    }
   ],
   "source": [
    "# 드랍쉽 : 공중 유닛, 수송기. 마린 / 파이어뱃 / 탱크 등을 수송. 공격 기능 없음.\n",
    "class Flyable:\n",
    "    def __init__(self, flying_speed):\n",
    "        self.flying_speed = flying_speed\n",
    "\n",
    "    def fly(self, name, location):\n",
    "        print(\"{0} : {1} 방향으로 날아갑니다. [속도 {2}]\".format(name, location, self.flying_speed))\n",
    "\n",
    "# 공중 공격 유닛 클래스\n",
    "class FlyableAttackUnit(AttackUnit, Flyable):\n",
    "    def __init__(self, name, hp, damage, flying_speed):\n",
    "        AttackUnit.__init__(self, name, hp, damage)\n",
    "        Flyable.__init__(self, flying_speed)\n",
    "\n",
    "# 발키리 : 공중 공격 유닛, 한번에 14발 미사일 발사\n",
    "valkyrie = FlyableAttackUnit(\"발키리\", 50, 5, 6)\n",
    "valkyrie.fly(valkyrie.name, \"3시\")"
   ]
  },
  {
   "cell_type": "markdown",
   "id": "a02ab8fb",
   "metadata": {},
   "source": [
    "### 메소드 오버라이딩\n",
    "객체 지향 프로그래밍에서 서브클래스 또는 자식 클래스가 자신의 슈퍼클래스들 또는 부모 클래스들 중 하나에 의해 이미 제공된 메소드를 특정한 형태로 구현하는 것"
   ]
  },
  {
   "cell_type": "code",
   "execution_count": 8,
   "id": "9397baa8",
   "metadata": {},
   "outputs": [
    {
     "name": "stdout",
     "output_type": "stream",
     "text": [
      "[지상 유닛 이동]\n",
      "벌쳐 : 11시 방향으로 이동합니다. [속도 10]\n",
      "배들크루져 : 9시 방향으로 날아갑니다. [속도 3]\n",
      "[지상 유닛 이동]\n",
      "벌쳐 : 11시 방향으로 이동합니다. [속도 10]\n",
      "[공중 유닛 이동]\n",
      "배들크루져 : 9시 방향으로 날아갑니다. [속도 3]\n"
     ]
    }
   ],
   "source": [
    "class Unit:\n",
    "    def __init__(self, name, hp, speed):\n",
    "        self.name = name\n",
    "        self.hp = hp\n",
    "        self.speed = speed\n",
    "\n",
    "    def move(self, location):\n",
    "        print(\"[지상 유닛 이동]\")\n",
    "        print(\"{0} : {1} 방향으로 이동합니다. [속도 {2}]\".format(self.name, location, self.speed))\n",
    "\n",
    "class AttackUnit(Unit):                     # Unit class에서 name과 hp를 상속 받는다.\n",
    "    def __init__(self, name, hp, speed, damage):\n",
    "        Unit.__init__(self, name, hp, speed)       # 상속 받을 때는 __init__를 사용\n",
    "        self.damage = damage        \n",
    "\n",
    "    def attack(self, location):\n",
    "        print(\"{0} : {1} 방향으로 적군을 공격합니다. [공격력 {2}]\".format(self.name, location, self.damage))\n",
    "\n",
    "    def damaged(self, damage):\n",
    "        print(\"{0} : {1} 데미지를 입었습니다.\".format(self.name, damage))\n",
    "        self.hp -= damage\n",
    "        print(\"{0} : 현재 체력은 {1} 입니다.\".format(self.name, self.hp))\n",
    "        if self.hp <= 0:\n",
    "            print(\"{0} : 파괴되었습니다.\".format(self.name))\n",
    "\n",
    "class Flyable:\n",
    "    def __init__(self, flying_speed):\n",
    "        self.flying_speed = flying_speed\n",
    "\n",
    "    def fly(self, name, location):\n",
    "        print(\"{0} : {1} 방향으로 날아갑니다. [속도 {2}]\".format(name, location, self.flying_speed))\n",
    "\n",
    "# 공중 공격 유닛 클래스\n",
    "class FlyableAttackUnit(AttackUnit, Flyable):\n",
    "    def __init__(self, name, hp, damage, flying_speed):\n",
    "        AttackUnit.__init__(self, name, hp, 0, damage)      # 지상 스피드는 0으로 설정\n",
    "        Flyable.__init__(self, flying_speed)\n",
    "\n",
    "# 벌쳐 : 지상 유닛, 기동성이 좋음\n",
    "vulture = AttackUnit(\"벌쳐\", 80, 10, 20)\n",
    "\n",
    "# 배틀크루져 : 공중 유닛, 체력도 좋고, 공격력도 좋음\n",
    "battlecruiser = FlyableAttackUnit(\"배들크루져\", 500, 25, 3)\n",
    "\n",
    "vulture.move(\"11시\")\n",
    "battlecruiser.fly(battlecruiser.name, \"9시\")\n",
    "\n",
    "# 이동할 때 지상 유닛인지 공중 유닛인지 구분하고 move, fly를 사용해야 하므로 번거롭다. 이때 오버라이딩을 사용한다.\n",
    "class FlyableAttackUnit(AttackUnit, Flyable):\n",
    "    def __init__(self, name, hp, damage, flying_speed):\n",
    "        AttackUnit.__init__(self, name, hp, 0, damage)      # 지상 스피드는 0으로 설정\n",
    "        Flyable.__init__(self, flying_speed)\n",
    "\n",
    "    def move(self, location):                               # move 함수를 만들어 fly 함수를 호출하므로써 오버라이딩 실행\n",
    "        print(\"[공중 유닛 이동]\")\n",
    "        self.fly(self.name, location)\n",
    "\n",
    "# 벌쳐 : 지상 유닛, 기동성이 좋음\n",
    "vulture = AttackUnit(\"벌쳐\", 80, 10, 20)\n",
    "\n",
    "# 배틀크루져 : 공중 유닛, 체력도 좋고, 공격력도 좋음\n",
    "battlecruiser = FlyableAttackUnit(\"배들크루져\", 500, 25, 3)\n",
    "\n",
    "vulture.move(\"11시\")\n",
    "battlecruiser.move(\"9시\")"
   ]
  },
  {
   "cell_type": "markdown",
   "id": "773b5054",
   "metadata": {},
   "source": [
    "### pass : 아무런 실행 없이 넘어가는 명령"
   ]
  },
  {
   "cell_type": "code",
   "execution_count": 9,
   "id": "14c6b945",
   "metadata": {},
   "outputs": [
    {
     "name": "stdout",
     "output_type": "stream",
     "text": [
      "[알림] 새로운 게임을 시작합니다.\n"
     ]
    }
   ],
   "source": [
    "# 건물\n",
    "class BuildingUnit(Unit):\n",
    "    def __init__(self, name, hp, location):\n",
    "        pass                                        # 아무런 실행 없이 넘어가는 명령\n",
    "\n",
    "# 서플라이 디폿 : 건물, 1개 건물 = 8 유닛 생성 가능\n",
    "supply_depot = BuildingUnit(\"서플라이 디폿\", 500, \"7시\")\n",
    "\n",
    "def game_start():\n",
    "    print(\"[알림] 새로운 게임을 시작합니다.\")\n",
    "\n",
    "def game_over():\n",
    "    pass                    # game_over를 호출하면 pass 때문에 아무런 기능을 하지 않음.\n",
    "\n",
    "game_start()\n",
    "game_over()"
   ]
  },
  {
   "cell_type": "markdown",
   "id": "0373b269",
   "metadata": {},
   "source": [
    "### super : 다수의 부모 클래스 중 하나만 상속되는 명령, 다중 상속에서는 사용하면 안됨."
   ]
  },
  {
   "cell_type": "code",
   "execution_count": 10,
   "id": "fa440958",
   "metadata": {},
   "outputs": [
    {
     "name": "stdout",
     "output_type": "stream",
     "text": [
      "Unit 생성자\n",
      "Flyable 생성자\n",
      "Unit 생성자\n",
      "Flyable 생성자\n"
     ]
    }
   ],
   "source": [
    "class Unit:\n",
    "    def __init__(self):\n",
    "        print(\"Unit 생성자\")\n",
    "\n",
    "class Flyable:\n",
    "    def __init__(self):\n",
    "        print(\"Flyable 생성자\")\n",
    "\n",
    "class FlyableUnit(Unit, Flyable):\n",
    "    def __init__(self):\n",
    "        super().__init__()\n",
    "\n",
    "dropship = FlyableUnit()        # Unit class만 상속됨\n",
    "\n",
    "class Unit:\n",
    "    def __init__(self):\n",
    "        print(\"Unit 생성자\")\n",
    "\n",
    "class Flyable:\n",
    "    def __init__(self):\n",
    "        print(\"Flyable 생성자\")\n",
    "\n",
    "class FlyableUnit(Flyable, Unit):\n",
    "    def __init__(self):\n",
    "        super().__init__()\n",
    "\n",
    "dropship = FlyableUnit()        # Flyable class만 상속됨\n",
    "\n",
    "class Unit:\n",
    "    def __init__(self):\n",
    "        print(\"Unit 생성자\")\n",
    "\n",
    "class Flyable:\n",
    "    def __init__(self):\n",
    "        print(\"Flyable 생성자\")\n",
    "\n",
    "class FlyableUnit(Flyable, Unit):\n",
    "    def __init__(self):\n",
    "        Unit.__init__(self)\n",
    "        Flyable.__init__(self)\n",
    "\n",
    "dropship = FlyableUnit()        # Unit class, Flyable class 모두 상속됨\n",
    "\n",
    "# super는 하나의 상속만 가능하므로 다중 상속을 할 때는 super를 사용하면 안됨."
   ]
  },
  {
   "cell_type": "code",
   "execution_count": null,
   "id": "3e36f035",
   "metadata": {},
   "outputs": [],
   "source": []
  }
 ],
 "metadata": {
  "kernelspec": {
   "display_name": "Python 3",
   "language": "python",
   "name": "python3"
  },
  "language_info": {
   "codemirror_mode": {
    "name": "ipython",
    "version": 3
   },
   "file_extension": ".py",
   "mimetype": "text/x-python",
   "name": "python",
   "nbconvert_exporter": "python",
   "pygments_lexer": "ipython3",
   "version": "3.7.7"
  }
 },
 "nbformat": 4,
 "nbformat_minor": 5
}
