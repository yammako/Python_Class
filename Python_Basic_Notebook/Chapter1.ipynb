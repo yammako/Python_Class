{
 "cells": [
  {
   "cell_type": "markdown",
   "id": "8eab7b42",
   "metadata": {},
   "source": [
    "# Python Tutorial\n",
    "## Hello World"
   ]
  },
  {
   "cell_type": "code",
   "execution_count": 1,
   "id": "c12eab26",
   "metadata": {},
   "outputs": [
    {
     "name": "stdout",
     "output_type": "stream",
     "text": [
      "Hello World\n"
     ]
    }
   ],
   "source": [
    "print(\"Hello World\")"
   ]
  },
  {
   "cell_type": "markdown",
   "id": "8ce1e1fb",
   "metadata": {},
   "source": [
    "## 자료형\n",
    "### 숫자 자료형"
   ]
  },
  {
   "cell_type": "code",
   "execution_count": 2,
   "id": "58f68722",
   "metadata": {},
   "outputs": [
    {
     "name": "stdout",
     "output_type": "stream",
     "text": [
      "5\n",
      "-10\n",
      "3.14\n",
      "1000\n",
      "8\n",
      "16\n",
      "12\n"
     ]
    }
   ],
   "source": [
    "print(5)\n",
    "print(-10)\n",
    "print(3.14)\n",
    "print(1000)\n",
    "print(5 + 3)\n",
    "print(2 * 8)\n",
    "print(3 * (3 + 1))"
   ]
  },
  {
   "cell_type": "markdown",
   "id": "16731e5c",
   "metadata": {},
   "source": [
    "### 문자열 자료형"
   ]
  },
  {
   "cell_type": "code",
   "execution_count": 3,
   "id": "fa6f7e65",
   "metadata": {},
   "outputs": [
    {
     "name": "stdout",
     "output_type": "stream",
     "text": [
      "풍선\n",
      "나비\n",
      "ㅋㅋㅋㅋㅋ\n",
      "ㅋㅋㅋㅋㅋㅋㅋㅋㅋ\n"
     ]
    }
   ],
   "source": [
    "print(\"풍선\")\n",
    "print(\"나비\")\n",
    "print(\"ㅋㅋㅋㅋㅋ\")\n",
    "print(\"ㅋ\"*9)"
   ]
  },
  {
   "cell_type": "markdown",
   "id": "3bf2e0bd",
   "metadata": {},
   "source": [
    "### boolean 자료형 참/거짓"
   ]
  },
  {
   "cell_type": "code",
   "execution_count": 4,
   "id": "b0fbbd52",
   "metadata": {},
   "outputs": [
    {
     "name": "stdout",
     "output_type": "stream",
     "text": [
      "False\n",
      "True\n",
      "True\n",
      "False\n",
      "False\n",
      "True\n",
      "True\n"
     ]
    }
   ],
   "source": [
    "print(5 > 10)\n",
    "print(5 < 10)\n",
    "print(True)\n",
    "print(False)\n",
    "print(not True)\n",
    "print(not False)\n",
    "print(not (5 > 10))"
   ]
  },
  {
   "cell_type": "markdown",
   "id": "edc88b03",
   "metadata": {},
   "source": [
    "### 변수\n",
    "#### 애완동물을 소개하는 것을 출력할 경우 (print 구문을 사용한 출력)"
   ]
  },
  {
   "cell_type": "code",
   "execution_count": 5,
   "id": "68c61fe2",
   "metadata": {},
   "outputs": [
    {
     "name": "stdout",
     "output_type": "stream",
     "text": [
      "우리집 강아지의 이름은 연탄이에요\n",
      "연탄이는 4살이며, 산책을 아주 좋아해요\n",
      "연탄이는 어른일까요? True\n"
     ]
    }
   ],
   "source": [
    "print(\"우리집 강아지의 이름은 연탄이에요\")\n",
    "print(\"연탄이는 4살이며, 산책을 아주 좋아해요\")\n",
    "print(\"연탄이는 어른일까요? True\")"
   ]
  },
  {
   "cell_type": "markdown",
   "id": "5baa52b2",
   "metadata": {},
   "source": [
    "#### 강아지 이름이 바뀌었을 때 위의 명령어를 다 고치는 것은 힘들기 때문에 변수를 사용함"
   ]
  },
  {
   "cell_type": "code",
   "execution_count": 7,
   "id": "4e0112f9",
   "metadata": {},
   "outputs": [
    {
     "name": "stdout",
     "output_type": "stream",
     "text": [
      "우리집 강아지의 이름은 연탄이에요\n",
      "연탄이는 4살이며, 산책을 아주 좋아해요\n",
      "연탄이는 어른일까요? True\n"
     ]
    }
   ],
   "source": [
    "animal = \"강아지\"   # 문자열\n",
    "name = \"연탄이\"     # 문자열\n",
    "age = 4             # 숫자\n",
    "hobby = \"산책\"      # 문자열\n",
    "is_adult = age >= 3 # boolean\n",
    "\n",
    "print(\"우리집 \" + animal + \"의 이름은 \" + name + \"에요\")\n",
    "print(name + \"는 \" + str(age) + \"살이며, \" + hobby + \"을 아주 좋아해요\")\n",
    "print(name + \"는 어른일까요? \" + str(is_adult))"
   ]
  },
  {
   "cell_type": "code",
   "execution_count": 8,
   "id": "dff74609",
   "metadata": {},
   "outputs": [
    {
     "name": "stdout",
     "output_type": "stream",
     "text": [
      "우리집 고양이의 이름은 해피에요\n",
      "해피는 2살이며, 낮잠을 아주 좋아해요\n",
      "해피는 어른일까요? False\n"
     ]
    }
   ],
   "source": [
    "animal = \"고양이\"   # 문자열\n",
    "name = \"해피\"     # 문자열\n",
    "age = 2             # 숫자\n",
    "hobby = \"낮잠\"      # 문자열\n",
    "is_adult = age >= 3 # boolean\n",
    "\n",
    "print(\"우리집 \" + animal + \"의 이름은 \" + name + \"에요\")\n",
    "print(name + \"는 \" + str(age) + \"살이며, \" + hobby + \"을 아주 좋아해요\")\n",
    "print(name + \"는 어른일까요? \" + str(is_adult))"
   ]
  },
  {
   "cell_type": "markdown",
   "id": "6d9763da",
   "metadata": {},
   "source": [
    "#### str을 사용하지 않고 나이와 어른인지를 나타내고 싶을 경우에는 + 대신 ,를 사용하면 됨. ,는 한칸 띄우기가 포함되어 있음."
   ]
  },
  {
   "cell_type": "code",
   "execution_count": 9,
   "id": "bd08599d",
   "metadata": {},
   "outputs": [
    {
     "name": "stdout",
     "output_type": "stream",
     "text": [
      "우리집  고양이 의 이름은  해피 에요\n",
      "해피 는  2 살이며,  낮잠 을 아주 좋아해요\n",
      "해피 는 어른일까요?  False\n"
     ]
    }
   ],
   "source": [
    "print(\"우리집 \", animal, \"의 이름은 \", name, \"에요\")\n",
    "print(name, \"는 \", age, \"살이며, \", hobby, \"을 아주 좋아해요\")\n",
    "print(name, \"는 어른일까요? \", is_adult)"
   ]
  },
  {
   "cell_type": "markdown",
   "id": "e0fed66b",
   "metadata": {},
   "source": [
    "### 주석: 프로그램을 설명하지만 실행은 되지 않는 문장\n",
    "#### 한문장 주석처리는 \\##"
   ]
  },
  {
   "cell_type": "code",
   "execution_count": 10,
   "id": "d535c365",
   "metadata": {},
   "outputs": [],
   "source": [
    "#print(\"우리집 \", animal, \"의 이름은 \", name, \"에요\")       한문장 주석처리는 #"
   ]
  },
  {
   "cell_type": "markdown",
   "id": "ac638b7c",
   "metadata": {},
   "source": [
    "#### 여러 문장 주석처리는 따옴표 3개를 사용함 (''')"
   ]
  },
  {
   "cell_type": "code",
   "execution_count": 11,
   "id": "3db3da3c",
   "metadata": {},
   "outputs": [
    {
     "data": {
      "text/plain": [
       "'여러문장을 한꺼번에 주석처리할 때는\\n따옴표 3개를 사용함.'"
      ]
     },
     "execution_count": 11,
     "metadata": {},
     "output_type": "execute_result"
    }
   ],
   "source": [
    "'''\n",
    "print(name, \"는 \", age, \"살이며, \", hobby, \"을 아주 좋아해요\")\n",
    "print(name, \"는 어른일까요? \", is_adult)'''\n",
    "'''여러문장을 한꺼번에 주석처리할 때는\n",
    "따옴표 3개를 사용함.'''"
   ]
  },
  {
   "cell_type": "markdown",
   "id": "2b888f65",
   "metadata": {},
   "source": [
    "### Quiz) 변수를 이용하여 다음 문장을 출력하시오.\n",
    "변수명 : station\n",
    "\n",
    "변수값 : \"사당\", \"신도림\", \"인천공항\" 순서대로 입력\n",
    "\n",
    "출력문장 : xx행 열차가 들어오고 있습니다."
   ]
  },
  {
   "cell_type": "code",
   "execution_count": 12,
   "id": "90f02c3b",
   "metadata": {},
   "outputs": [
    {
     "name": "stdout",
     "output_type": "stream",
     "text": [
      "사당 행 열차가 들어오고 있습니다.\n",
      "신도림 행 열차가 들어오고 있습니다.\n",
      "인천공항 행 열차가 들어오고 있습니다.\n"
     ]
    }
   ],
   "source": [
    "station = \"사당\"\n",
    "print(station, \"행 열차가 들어오고 있습니다.\")\n",
    "station = \"신도림\"\n",
    "print(station, \"행 열차가 들어오고 있습니다.\")\n",
    "station = \"인천공항\"\n",
    "print(station, \"행 열차가 들어오고 있습니다.\")"
   ]
  },
  {
   "cell_type": "code",
   "execution_count": null,
   "id": "96b52579",
   "metadata": {},
   "outputs": [],
   "source": []
  }
 ],
 "metadata": {
  "kernelspec": {
   "display_name": "Python 3",
   "language": "python",
   "name": "python3"
  },
  "language_info": {
   "codemirror_mode": {
    "name": "ipython",
    "version": 3
   },
   "file_extension": ".py",
   "mimetype": "text/x-python",
   "name": "python",
   "nbconvert_exporter": "python",
   "pygments_lexer": "ipython3",
   "version": "3.7.7"
  }
 },
 "nbformat": 4,
 "nbformat_minor": 5
}
