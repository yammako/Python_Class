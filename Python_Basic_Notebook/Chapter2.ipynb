{
 "cells": [
  {
   "cell_type": "markdown",
   "id": "94732e65",
   "metadata": {},
   "source": [
    "## 연산자\n",
    "### 사칙 연산자"
   ]
  },
  {
   "cell_type": "code",
   "execution_count": 1,
   "id": "a821aee7",
   "metadata": {},
   "outputs": [
    {
     "name": "stdout",
     "output_type": "stream",
     "text": [
      "2\n",
      "1\n",
      "10\n",
      "2.0\n"
     ]
    }
   ],
   "source": [
    "print(1+1)      # 2\n",
    "print(3-2)      # 1\n",
    "print(5*2)      # 10\n",
    "print(6/3)      # 2"
   ]
  },
  {
   "cell_type": "markdown",
   "id": "3855bb89",
   "metadata": {},
   "source": [
    "### 특수 연산자"
   ]
  },
  {
   "cell_type": "code",
   "execution_count": 2,
   "id": "823c757b",
   "metadata": {},
   "outputs": [
    {
     "name": "stdout",
     "output_type": "stream",
     "text": [
      "8\n",
      "2\n",
      "1\n",
      "1\n",
      "3\n"
     ]
    }
   ],
   "source": [
    "print(2**3)     # 2^3 = 8\n",
    "print(5%3)      # 5 나누기 3의 나머지인 2 (나머지 구하는 연산자: %)\n",
    "print(10%3)     # 1\n",
    "print(5//3)     # 5를 3으로 나누었을 때 몫 1 (몫을 구하는 연산자: //)\n",
    "print(10//3)    # 3"
   ]
  },
  {
   "cell_type": "markdown",
   "id": "5109dc02",
   "metadata": {},
   "source": [
    "### 논리 연산자 (Boolean)"
   ]
  },
  {
   "cell_type": "code",
   "execution_count": 3,
   "id": "7d62da80",
   "metadata": {},
   "outputs": [
    {
     "name": "stdout",
     "output_type": "stream",
     "text": [
      "True\n",
      "False\n",
      "False\n",
      "True\n",
      "False\n",
      "True\n",
      "True\n",
      "False\n",
      "True\n",
      "True\n",
      "True\n",
      "True\n",
      "True\n",
      "False\n"
     ]
    }
   ],
   "source": [
    "print(10 > 3)   # True\n",
    "print(4 >= 7)   # False\n",
    "print(10 < 3)   # False\n",
    "print(3 == 3)   # True  (같다는 연산자: ==)\n",
    "print(4 == 2)   # False\n",
    "print(3 + 4 == 7)   # True\n",
    "print(1 != 3)   # True (같지 않다는 연산자: !=)\n",
    "print(not(1 != 3))  # False\n",
    "print((3 > 0) and (3 < 5))  # True (동시 만족조건 연산자 and)\n",
    "print((3 > 0) & (3 < 5))    # True (동시 만족조건 연산자 &)\n",
    "print((3 > 0) or (3 > 5))   # True (둘 중 하나만 만족해도 되는 연산자 or)\n",
    "print((3 > 0) | (3 > 5))   # True (둘 중 하나만 만족해도 되는 연산자 |)\n",
    "print(5 > 4 > 3)            # True\n",
    "print(5 > 4 > 7)            # False"
   ]
  },
  {
   "cell_type": "markdown",
   "id": "39d5a82f",
   "metadata": {},
   "source": [
    "### 다중 연산자 사용"
   ]
  },
  {
   "cell_type": "code",
   "execution_count": 4,
   "id": "46b94829",
   "metadata": {},
   "outputs": [
    {
     "name": "stdout",
     "output_type": "stream",
     "text": [
      "14\n",
      "20\n"
     ]
    }
   ],
   "source": [
    "print(2 + 3 * 4)            # 14\n",
    "print((2 + 3) * 4)          # 20"
   ]
  },
  {
   "cell_type": "markdown",
   "id": "5fc694b0",
   "metadata": {},
   "source": [
    "### 변수를 사용한 연산"
   ]
  },
  {
   "cell_type": "code",
   "execution_count": 5,
   "id": "9fdcd803",
   "metadata": {},
   "outputs": [
    {
     "name": "stdout",
     "output_type": "stream",
     "text": [
      "14\n",
      "16\n",
      "18\n",
      "36\n",
      "18.0\n",
      "16.0\n",
      "0.0\n"
     ]
    }
   ],
   "source": [
    "number = 2 + 3 * 4          # 14\n",
    "print(number)\n",
    "number = number + 2         # 16\n",
    "print(number)\n",
    "number += 2                 # 18\n",
    "print(number)\n",
    "number *= 2                 # 36\n",
    "print(number)\n",
    "number /= 2                 # 18\n",
    "print(number)\n",
    "number -= 2                 # 16\n",
    "print(number)\n",
    "number %= 2                 # 0\n",
    "print(number)"
   ]
  },
  {
   "cell_type": "markdown",
   "id": "d07e7e6c",
   "metadata": {},
   "source": [
    "### 숫자 처리 함수"
   ]
  },
  {
   "cell_type": "code",
   "execution_count": 6,
   "id": "fd83aecb",
   "metadata": {},
   "outputs": [
    {
     "name": "stdout",
     "output_type": "stream",
     "text": [
      "5\n",
      "16\n",
      "12\n",
      "5\n",
      "3\n",
      "5\n"
     ]
    }
   ],
   "source": [
    "print(abs(-5))      # 절대값\n",
    "print(pow(4, 2))    # 4^2\n",
    "print(max(5, 12))   # 최대값\n",
    "print(min(5, 12))   # 최소값\n",
    "print(round(3.14))  # 반올림\n",
    "print(round(4.99))  # 반올림"
   ]
  },
  {
   "cell_type": "markdown",
   "id": "0b343979",
   "metadata": {},
   "source": [
    "### math 패키지의 수학 함수"
   ]
  },
  {
   "cell_type": "code",
   "execution_count": 7,
   "id": "dc0a27fc",
   "metadata": {},
   "outputs": [
    {
     "name": "stdout",
     "output_type": "stream",
     "text": [
      "4\n",
      "4\n",
      "4.0\n"
     ]
    }
   ],
   "source": [
    "from math import *  # math library의 모든 함수 사용하겠다\n",
    "print(floor(4.99))  # 내림\n",
    "print(ceil(3.14))   # 올림\n",
    "print(sqrt(16))     # 제곱근"
   ]
  },
  {
   "cell_type": "markdown",
   "id": "df136910",
   "metadata": {},
   "source": [
    "### random 패키지의 수학 함수"
   ]
  },
  {
   "cell_type": "code",
   "execution_count": 8,
   "id": "5443f761",
   "metadata": {},
   "outputs": [
    {
     "name": "stdout",
     "output_type": "stream",
     "text": [
      "0.7389285040437018\n",
      "6.89441549316819\n",
      "0\n",
      "8\n",
      "7\n",
      "9\n"
     ]
    }
   ],
   "source": [
    "from random import *    # random library의 모든 함수 사용하겠다\n",
    "print(random())     # 랜덤한 수를 발생 (0.0 ~ 1.0 미만 사이의 임의의 값 생성)\n",
    "print(random() * 10)    # (0.0 ~ 10.0 미만 사이의 임의의 값 생성)\n",
    "print(int(random() * 10))   # (0 ~ 10 미만 사이의 정수 값 생성)\n",
    "print(int(random() * 10) + 1)   # (1 ~ 10 미만 사이의 정수 값 생성)\n",
    "print(randrange(1, 10))     # 1 ~ 10 미만 사이의 정수 값 생성\n",
    "print(randint(1, 10))       # 1 ~ 10 이하 사이의 정수 값 생성"
   ]
  },
  {
   "cell_type": "markdown",
   "id": "f2d5adbc",
   "metadata": {},
   "source": [
    "### Quiz)\n",
    " 당신은 최근에 코딩 스터디 모임을 새로 만들었습니다.\n",
    " \n",
    " 월 4회 스터디를 하는데 3번은 온라인으로 하고 1번은 오프라인으로 하기로 했습니다.\n",
    " \n",
    " 아래 조건에 맞는 오프라인 모임 날짜를 정해주는 프로그램을 작성하시오.\n",
    " \n",
    " 조건 1 : 랜덤으로 날짜를 뽑아야 함.\n",
    " \n",
    " 조건 2 : 월별 날짜는 다름을 감안하여 최소 일수인 28 이내로 정함.\n",
    " \n",
    " 조건 3 : 매월 1 ~ 3일은 스터디 준비를 해야 하므로 제외\n",
    " \n",
    " (출력문 예제)\n",
    " \n",
    " 오프라인 스터디 모임 날짜는 매월 x 일로 선정되었습니다."
   ]
  },
  {
   "cell_type": "code",
   "execution_count": 9,
   "id": "5846ce9e",
   "metadata": {},
   "outputs": [
    {
     "name": "stdout",
     "output_type": "stream",
     "text": [
      "오프라인 스터디 모임 날짜는 매월 15일로 선정되었습니다.\n"
     ]
    }
   ],
   "source": [
    "from random import *\n",
    "day = randint(4, 28)\n",
    "print(\"오프라인 스터디 모임 날짜는 매월 \" + str(day) + \"일로 선정되었습니다.\")"
   ]
  },
  {
   "cell_type": "code",
   "execution_count": null,
   "id": "77efd059",
   "metadata": {},
   "outputs": [],
   "source": []
  }
 ],
 "metadata": {
  "kernelspec": {
   "display_name": "Python 3",
   "language": "python",
   "name": "python3"
  },
  "language_info": {
   "codemirror_mode": {
    "name": "ipython",
    "version": 3
   },
   "file_extension": ".py",
   "mimetype": "text/x-python",
   "name": "python",
   "nbconvert_exporter": "python",
   "pygments_lexer": "ipython3",
   "version": "3.7.7"
  }
 },
 "nbformat": 4,
 "nbformat_minor": 5
}
