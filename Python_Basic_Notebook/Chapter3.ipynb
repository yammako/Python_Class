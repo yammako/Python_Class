{
 "cells": [
  {
   "cell_type": "markdown",
   "id": "f1cea236",
   "metadata": {},
   "source": [
    "## 문자열"
   ]
  },
  {
   "cell_type": "code",
   "execution_count": 1,
   "id": "df4f0669",
   "metadata": {},
   "outputs": [
    {
     "name": "stdout",
     "output_type": "stream",
     "text": [
      "나는 소년입니다\n",
      "파이썬은 쉬워요\n",
      "\n",
      "나는 소년이고,\n",
      "파이썬은 쉬워요\n",
      "\n"
     ]
    }
   ],
   "source": [
    "sentence = '나는 소년입니다'\n",
    "print(sentence)\n",
    "sentence2 = \"파이썬은 쉬워요\"\n",
    "print(sentence2)\n",
    "sentence3 = \"\"\"\n",
    "나는 소년이고,\n",
    "파이썬은 쉬워요\n",
    "\"\"\"\n",
    "print(sentence3)    # 큰 따옴표 3개로는 여러 줄의 문자열을 만들 수 있다."
   ]
  },
  {
   "cell_type": "markdown",
   "id": "594bafcc",
   "metadata": {},
   "source": [
    "## 슬라이싱"
   ]
  },
  {
   "cell_type": "code",
   "execution_count": 2,
   "id": "9e5baf89",
   "metadata": {},
   "outputs": [
    {
     "name": "stdout",
     "output_type": "stream",
     "text": [
      "성별 : 1\n",
      "연 : 99\n",
      "월 : 01\n",
      "일 : 20\n",
      "생년월일 : 990120\n",
      "뒤 7자리 : 1234567\n",
      "뒤 7자리 (뒤에서부터) : 1234567\n"
     ]
    }
   ],
   "source": [
    "jumin = \"990120-1234567\"\n",
    "\n",
    "# jumin 변수에서 필요한 정보만을 추출하는 것을 슬라이싱이라 함\n",
    "print(\"성별 : \" + jumin[7])     # 자료의 시작점은 0부터 시작함\n",
    "print(\"연 : \" + jumin[0:2])     # jumin의 0번째부터 2번째미만까지의 정보를 추출, 즉 0번째와 1번째 정보 추출\n",
    "print(\"월 : \" + jumin[2:4])     # jumin의 2번째, 3번째 정보를 추출\n",
    "print(\"일 : \" + jumin[4:6])     # jumin의 4번째, 5번째 정보를 추출\n",
    "print(\"생년월일 : \" + jumin[:6])    # jumin의 처음부터 6번째 미만까지의 정보 추출\n",
    "print(\"뒤 7자리 : \" + jumin[7:])    # jumin의 7번째부터 끝까지의 정보 추출\n",
    "print(\"뒤 7자리 (뒤에서부터) : \" + jumin[-7:])  # jumin의 마지막은 -1이기 때문에 뒤 7자리의 첫번째 정보는 -7의 위치"
   ]
  },
  {
   "cell_type": "markdown",
   "id": "2b1e0ac3",
   "metadata": {},
   "source": [
    "## 문자열 함수"
   ]
  },
  {
   "cell_type": "code",
   "execution_count": 3,
   "id": "8cc82f9c",
   "metadata": {},
   "outputs": [
    {
     "name": "stdout",
     "output_type": "stream",
     "text": [
      "python is amazing\n",
      "PYTHON IS AMAZING\n",
      "True\n",
      "17\n",
      "Java is Amazing\n",
      "5\n",
      "15\n",
      "-1\n",
      "2\n"
     ]
    }
   ],
   "source": [
    "python = \"Python is Amazing\"\n",
    "print(python.lower())   # 모든 문자열을 소문자로 변환\n",
    "print(python.upper())   # 모든 문자열을 대문자로 변환\n",
    "print(python[0].isupper())  # 문자열의 첫문자가 대문자인지 알아보는 것\n",
    "print(len(python))      # 문자열의 길이 구하기\n",
    "print(python.replace(\"Python\", \"Java\"))     # 문자열에서 바꾸고 싶은 문자열을 찾아서 다른 문자열로 바꾸기\n",
    "\n",
    "index = python.index(\"n\")       # 문자열에서 n이 처음 나오는 위치 찾기\n",
    "print(index)\n",
    "index = python.index(\"n\", index + 1)    # 문자열에서 n이 두번째로 나오는 위치 찾기\n",
    "print(index)\n",
    "print(python.find(\"Java\"))      # 문자열에서 찾는 문자열이 없으면 -1을 리턴\n",
    "# print(python.index(\"Java\"))      # 문자열에서 찾는 문자열이 없으면 에러가 남\n",
    "print(python.count(\"n\"))        # 문자열에서 n이 몇 번 있는지 구함"
   ]
  },
  {
   "cell_type": "markdown",
   "id": "13493f94",
   "metadata": {},
   "source": [
    "## 문자열 포맷"
   ]
  },
  {
   "cell_type": "code",
   "execution_count": 4,
   "id": "ee8071b7",
   "metadata": {},
   "outputs": [
    {
     "name": "stdout",
     "output_type": "stream",
     "text": [
      "ab\n",
      "a b\n",
      "나는 20살입니다.\n",
      "나는 파이썬을 좋아해요.\n",
      "Apple은 A로 시작해요.\n",
      "나는 20 살입니다.\n",
      "나는 파란색과 빨간색을 좋아해요.\n",
      "나는 20살입니다.\n",
      "나는 파란색과 빨간색을 좋아해요.\n",
      "나는 파란색과 빨간색을 좋아해요.\n",
      "나는 빨간색과 파란색을 좋아해요.\n",
      "나는 20살이며, 빨간색을 좋아해요.\n",
      "나는 16살이며, 파란색을 좋아해요.\n",
      "백문이 불여일견\n",
      "백견이 불여일타\n",
      "저는 \"코딩\"입니다.\n",
      "저는 \"코딩\"입니다.\n",
      "저는 '코딩'입니다.\n",
      "C:\\Users\\Coding\n",
      "Red Apple\r",
      "Pine\n",
      "Redd\bApple\n",
      "Red\tApple\n"
     ]
    }
   ],
   "source": [
    "print(\"a\" + \"b\")\n",
    "print(\"a\", \"b\")\n",
    "\n",
    "# 방법 1\n",
    "print(\"나는 %d살입니다.\" % 20)  # %d에 20을 대입함. d는 정수를 의미\n",
    "print(\"나는 %s을 좋아해요.\" % \"파이썬\")     # %s는 문자열\n",
    "print(\"Apple은 %c로 시작해요.\" % \"A\")       # %c는 단일문자\n",
    "print(\"나는 %s 살입니다.\" % 20)         # 숫자는 문자열로도 표현가능\n",
    "print(\"나는 %s색과 %s색을 좋아해요.\" % (\"파란\", \"빨간\"))        # 여러 값을 출력할 때\n",
    "\n",
    "# 방법 2\n",
    "print(\"나는 {}살입니다.\".format(20))    # format 괄호 속의 데이터를 {}에 리턴\n",
    "print(\"나는 {}색과 {}색을 좋아해요.\".format(\"파란\", \"빨간\"))    # {}속에 숫자가 없으면 데이터를 순차적으로 리턴\n",
    "print(\"나는 {0}색과 {1}색을 좋아해요.\".format(\"파란\", \"빨간\"))  # {}속에 숫자가 있으면 숫자 순서대로 데이터를 리턴\n",
    "print(\"나는 {1}색과 {0}색을 좋아해요.\".format(\"파란\", \"빨간\"))\n",
    "\n",
    "# 방법 3\n",
    "print(\"나는 {age}살이며, {color}색을 좋아해요.\".format(age = 20, color=\"빨간\"))     # 변수를 리턴\n",
    "# 변수를 미리 설정하고 출력할 경우\n",
    "age = 16\n",
    "color = \"파란\"\n",
    "print(f\"나는 {age}살이며, {color}색을 좋아해요.\")     # 변수를 리턴\n",
    "\n",
    "# \\n 줄바꿈\n",
    "print(\"백문이 불여일견\\n백견이 불여일타\")\n",
    "# 저는 \"코딩\"입니다. 를 출력하고 싶을 때\n",
    "print('저는 \"코딩\"입니다.')\n",
    "print(\"저는 \\\"코딩\\\"입니다.\")\n",
    "print(\"저는 \\'코딩\\'입니다.\")\n",
    "\n",
    "# \\\\ 문장 내에서 \\\n",
    "print(\"C:\\\\Users\\\\Coding\")\n",
    "\n",
    "# \\r 커서를 맨 앞으로 이동\n",
    "print(\"Red Apple\\rPine\")    # Red Apple을 출력한 후 커서가 앞으로 가서 Pine을 다시 출력하기 때문에 PineApple이 출력됨.\n",
    "\n",
    "# \\b 백스페이스 (한 글자 삭제)\n",
    "print(\"Redd\\bApple\")    # \\b 앞의 d를 삭제\n",
    "\n",
    "# \\t 탭\n",
    "print(\"Red\\tApple\")"
   ]
  },
  {
   "cell_type": "markdown",
   "id": "0621f0e9",
   "metadata": {},
   "source": [
    "## Quiz\n",
    "사이트별로 비밀번호를 만들어 주는 프로그램을 작성하시오.\n",
    "\n",
    "예) http://naver.com\n",
    "\n",
    "규칙 1 : http:// 부분은 제외 => naver.com\n",
    "\n",
    "규칙 2 : 처음 만나는 점 (.) 이후 부분은 제외 => naver\n",
    "\n",
    "규칙 3 : 남은 글자 중 처음 세자리 + 글자 갯수 + 글자 내 'e' 갯수 + \"!\"로 구성\n",
    "\n",
    "                  (nav)                 (5)            (1)            (!)\n",
    "\n",
    "예) 생성된 비밀번호 : nav51!"
   ]
  },
  {
   "cell_type": "code",
   "execution_count": 5,
   "id": "5fee1f61",
   "metadata": {},
   "outputs": [
    {
     "name": "stdout",
     "output_type": "stream",
     "text": [
      "naver.com\n",
      "naver\n",
      "nav\n",
      "5\n",
      "1\n",
      "!\n",
      "http://naver.com의 비밀번호는 nav51! 입니다.\n"
     ]
    }
   ],
   "source": [
    "sentence = \"http://naver.com\"\n",
    "# sentence = \"http://daum.net\"\n",
    "sentence1 = sentence.replace(\"http://\", \"\")     # 규칙 1\n",
    "print(sentence1)\n",
    "sentence1 = sentence1[:sentence1.index(\".\")]    # 규칙 2\n",
    "print(sentence1)\n",
    "password = sentence1[:3] + str(len(sentence1)) + str(sentence1.count('e')) + \"!\"    # 규칙 3\n",
    "print(sentence1[:3])\n",
    "print(str(len(sentence1)))\n",
    "print(sentence1.count('e'))\n",
    "print(\"!\")\n",
    "# 최종 출력\n",
    "print(\"{0}의 비밀번호는 {1} 입니다.\".format(sentence, password))"
   ]
  },
  {
   "cell_type": "code",
   "execution_count": null,
   "id": "38f6704b",
   "metadata": {},
   "outputs": [],
   "source": []
  }
 ],
 "metadata": {
  "kernelspec": {
   "display_name": "Python 3",
   "language": "python",
   "name": "python3"
  },
  "language_info": {
   "codemirror_mode": {
    "name": "ipython",
    "version": 3
   },
   "file_extension": ".py",
   "mimetype": "text/x-python",
   "name": "python",
   "nbconvert_exporter": "python",
   "pygments_lexer": "ipython3",
   "version": "3.7.7"
  }
 },
 "nbformat": 4,
 "nbformat_minor": 5
}
