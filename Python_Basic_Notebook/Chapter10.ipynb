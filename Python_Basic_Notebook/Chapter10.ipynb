{
 "cells": [
  {
   "cell_type": "markdown",
   "id": "da10dbca",
   "metadata": {},
   "source": [
    "## 표준 입출력"
   ]
  },
  {
   "cell_type": "code",
   "execution_count": 2,
   "id": "b1995faf",
   "metadata": {},
   "outputs": [
    {
     "name": "stdout",
     "output_type": "stream",
     "text": [
      "Python Java\n",
      "PythonJava\n",
      "Python,Java\n",
      "Python vs Java\n",
      "Python vs Java?무엇이 더 재밌을까요?\n"
     ]
    }
   ],
   "source": [
    "print(\"Python\", \"Java\")\n",
    "print(\"Python\" + \"Java\")\n",
    "print(\"Python\", \"Java\", sep = \",\")  # 콤마 부분을 콤마로 출력\n",
    "print(\"Python\", \"Java\", sep = \" vs \")  # 콤마 부분을 vs로 출력\n",
    "print(\"Python\", \"Java\", sep = \" vs \", end = \"?\")  # 콤마 부분을 vs로 출력하고 ?가 있는 문자이 마지막이되어 한줄로 출력\n",
    "print(\"무엇이 더 재밌을까요?\")"
   ]
  },
  {
   "cell_type": "markdown",
   "id": "a71eb78e",
   "metadata": {},
   "source": [
    "### sys 패키지를 사용한 출력"
   ]
  },
  {
   "cell_type": "code",
   "execution_count": 3,
   "id": "4dd7e806",
   "metadata": {},
   "outputs": [
    {
     "name": "stdout",
     "output_type": "stream",
     "text": [
      "Python Java\n"
     ]
    },
    {
     "name": "stderr",
     "output_type": "stream",
     "text": [
      "Python Java\n"
     ]
    }
   ],
   "source": [
    "import sys\n",
    "print(\"Python\", \"Java\", file=sys.stdout)\n",
    "print(\"Python\", \"Java\", file=sys.stderr)"
   ]
  },
  {
   "cell_type": "markdown",
   "id": "6032c968",
   "metadata": {},
   "source": [
    "### 시험 성적 출력 예제"
   ]
  },
  {
   "cell_type": "code",
   "execution_count": 4,
   "id": "f98ebc55",
   "metadata": {},
   "outputs": [
    {
     "name": "stdout",
     "output_type": "stream",
     "text": [
      "수학      :   0\n",
      "영어      :  50\n",
      "코딩      : 100\n"
     ]
    }
   ],
   "source": [
    "scores = {\"수학\":0, \"영어\":50, \"코딩\":100}\n",
    "for subject, score in scores.items():\n",
    "    # print(subject, score)\n",
    "    print(subject.ljust(8), str(score).rjust(4), sep = \":\")    \n",
    "    # ljust는 왼쪽 정렬이고 8은 8칸을 확보한다는 뜻, rjust는 오른쪽 정렬이고 4는 4칸을 확보한다는 뜻"
   ]
  },
  {
   "cell_type": "markdown",
   "id": "a2ac5093",
   "metadata": {},
   "source": [
    "### 은행 대기번호표 출력 예제"
   ]
  },
  {
   "cell_type": "code",
   "execution_count": 5,
   "id": "4074dbd0",
   "metadata": {},
   "outputs": [
    {
     "name": "stdout",
     "output_type": "stream",
     "text": [
      "대기번호 : 001\n",
      "대기번호 : 002\n",
      "대기번호 : 003\n",
      "대기번호 : 004\n",
      "대기번호 : 005\n",
      "대기번호 : 006\n",
      "대기번호 : 007\n",
      "대기번호 : 008\n",
      "대기번호 : 009\n",
      "대기번호 : 010\n",
      "대기번호 : 011\n",
      "대기번호 : 012\n",
      "대기번호 : 013\n",
      "대기번호 : 014\n",
      "대기번호 : 015\n",
      "대기번호 : 016\n",
      "대기번호 : 017\n",
      "대기번호 : 018\n",
      "대기번호 : 019\n",
      "대기번호 : 020\n"
     ]
    }
   ],
   "source": [
    "# 001, 002, 003, ...\n",
    "for num in range(1, 21):\n",
    "    # print(\"대기번호 : \" + str(num))\n",
    "    print(\"대기번호 : \" + str(num).zfill(3))        # zfill(3)은 3자리 숫자에서 0을 채운다는 것"
   ]
  },
  {
   "cell_type": "markdown",
   "id": "c53b7832",
   "metadata": {},
   "source": [
    "### 표준 입력"
   ]
  },
  {
   "cell_type": "code",
   "execution_count": 6,
   "id": "6ff29274",
   "metadata": {},
   "outputs": [
    {
     "name": "stdout",
     "output_type": "stream",
     "text": [
      "아무 값이나 입력하세요 : 5\n",
      "<class 'str'>\n",
      "입력하신 값은 5입니다.\n",
      "<class 'int'>\n",
      "입력하신 값은 10입니다.\n"
     ]
    }
   ],
   "source": [
    "answer = input(\"아무 값이나 입력하세요 : \")         # 문자열 형태로 입력이 됨\n",
    "print(type(answer))\n",
    "print(\"입력하신 값은 \" + answer + \"입니다.\")\n",
    "\n",
    "answer = 10\n",
    "print(type(answer))\n",
    "print(\"입력하신 값은 \" + str(answer) + \"입니다.\")"
   ]
  },
  {
   "cell_type": "markdown",
   "id": "8ca1d51d",
   "metadata": {},
   "source": [
    "## 다양한 출력 포맷\n",
    "### 빈 자리는 빈공간으로 두고, 오른쪽 정렬을 하되, 총 10자리 공간을 확보"
   ]
  },
  {
   "cell_type": "code",
   "execution_count": 7,
   "id": "62745161",
   "metadata": {},
   "outputs": [
    {
     "name": "stdout",
     "output_type": "stream",
     "text": [
      "       500\n"
     ]
    }
   ],
   "source": [
    "print(\"{0: >10}\".format(500))       # {0: >10}에서 빈공간을 빈자리를 뜻하고 >는 오른쪽 정렬, 10은 총 공간"
   ]
  },
  {
   "cell_type": "markdown",
   "id": "9e567f96",
   "metadata": {},
   "source": [
    "### 양수일 땐 +로 표시, 음수일 땐 -로 표시"
   ]
  },
  {
   "cell_type": "code",
   "execution_count": 8,
   "id": "078789dd",
   "metadata": {},
   "outputs": [
    {
     "name": "stdout",
     "output_type": "stream",
     "text": [
      "      +500\n",
      "      -500\n"
     ]
    }
   ],
   "source": [
    "print(\"{0: >+10}\".format(500))\n",
    "print(\"{0: >+10}\".format(-500))"
   ]
  },
  {
   "cell_type": "markdown",
   "id": "6c1833fe",
   "metadata": {},
   "source": [
    "### 왼쪽 정렬하고, 빈칸으로 _로 채움"
   ]
  },
  {
   "cell_type": "code",
   "execution_count": 9,
   "id": "3670a2be",
   "metadata": {},
   "outputs": [
    {
     "name": "stdout",
     "output_type": "stream",
     "text": [
      "500_______\n",
      "+500______\n"
     ]
    }
   ],
   "source": [
    "print(\"{0:_<10}\".format(500))\n",
    "print(\"{0:_<+10}\".format(500))"
   ]
  },
  {
   "cell_type": "markdown",
   "id": "62b42b56",
   "metadata": {},
   "source": [
    "### 3자리마다 콤마를 찍어주기"
   ]
  },
  {
   "cell_type": "code",
   "execution_count": 10,
   "id": "072db460",
   "metadata": {},
   "outputs": [
    {
     "name": "stdout",
     "output_type": "stream",
     "text": [
      "10,000,000,000\n"
     ]
    }
   ],
   "source": [
    "print(\"{0:,}\".format(10000000000))"
   ]
  },
  {
   "cell_type": "markdown",
   "id": "9e6098b1",
   "metadata": {},
   "source": [
    "### 3자리마다 콤마를 찍어주기, +- 부호도 붙이기"
   ]
  },
  {
   "cell_type": "code",
   "execution_count": 11,
   "id": "0a54da6a",
   "metadata": {},
   "outputs": [
    {
     "name": "stdout",
     "output_type": "stream",
     "text": [
      "+10,000,000,000\n",
      "-10,000,000,000\n"
     ]
    }
   ],
   "source": [
    "print(\"{0:+,}\".format(10000000000))\n",
    "print(\"{0:+,}\".format(-10000000000))"
   ]
  },
  {
   "cell_type": "markdown",
   "id": "c12d0e8f",
   "metadata": {},
   "source": [
    "### 3자리마다 콤마를 찍어주기, +- 부호도 붙이고 자릿수 확보하고, 빈자리는 ^^로 채우기"
   ]
  },
  {
   "cell_type": "code",
   "execution_count": 12,
   "id": "f22bf30b",
   "metadata": {},
   "outputs": [
    {
     "name": "stdout",
     "output_type": "stream",
     "text": [
      "+10,000,000,000,000^^^^^^^^^^^\n",
      "^^^^^^^^^^^+10,000,000,000,000\n"
     ]
    }
   ],
   "source": [
    "print(\"{0:^<+30,}\".format(10000000000000))\n",
    "print(\"{0:^>+30,}\".format(10000000000000))"
   ]
  },
  {
   "cell_type": "markdown",
   "id": "36001066",
   "metadata": {},
   "source": [
    "### 소숫점 출력"
   ]
  },
  {
   "cell_type": "code",
   "execution_count": 13,
   "id": "fb9147de",
   "metadata": {},
   "outputs": [
    {
     "name": "stdout",
     "output_type": "stream",
     "text": [
      "1.666667\n"
     ]
    }
   ],
   "source": [
    "print(\"{0:f}\".format(5/3))"
   ]
  },
  {
   "cell_type": "markdown",
   "id": "bd6948db",
   "metadata": {},
   "source": [
    "### 특정자리까지만 소숫점 출력"
   ]
  },
  {
   "cell_type": "code",
   "execution_count": 14,
   "id": "b46881fc",
   "metadata": {},
   "outputs": [
    {
     "name": "stdout",
     "output_type": "stream",
     "text": [
      "1.67\n"
     ]
    }
   ],
   "source": [
    "print(\"{0:.2f}\".format(5/3))"
   ]
  },
  {
   "cell_type": "code",
   "execution_count": null,
   "id": "f61a3d31",
   "metadata": {},
   "outputs": [],
   "source": []
  }
 ],
 "metadata": {
  "kernelspec": {
   "display_name": "Python 3",
   "language": "python",
   "name": "python3"
  },
  "language_info": {
   "codemirror_mode": {
    "name": "ipython",
    "version": 3
   },
   "file_extension": ".py",
   "mimetype": "text/x-python",
   "name": "python",
   "nbconvert_exporter": "python",
   "pygments_lexer": "ipython3",
   "version": "3.7.7"
  }
 },
 "nbformat": 4,
 "nbformat_minor": 5
}
