{
 "cells": [
  {
   "cell_type": "markdown",
   "id": "962a07b4",
   "metadata": {},
   "source": [
    "## 사전 (Dictionary)\n",
    "### 사전은 {}를 사용함. 키와 데이터로 구성"
   ]
  },
  {
   "cell_type": "code",
   "execution_count": 1,
   "id": "74167fc4",
   "metadata": {},
   "outputs": [
    {
     "name": "stdout",
     "output_type": "stream",
     "text": [
      "유재석\n",
      "김태호\n",
      "유재석\n",
      "김태호\n",
      "None\n",
      "hi\n",
      "사용 가능\n",
      "hi\n",
      "True\n",
      "False\n",
      "유재석\n",
      "김태호\n"
     ]
    }
   ],
   "source": [
    "cabinet = {3:\"유재석\", 100:\"김태호\"}\n",
    "print(cabinet[3])\n",
    "print(cabinet[100])\n",
    "\n",
    "print(cabinet.get(3))\n",
    "print(cabinet.get(100))\n",
    "\n",
    "# print(cabinet[5])     5라는 키가 없으므로 에러 발생\n",
    "print(cabinet.get(5))   # 키가 없을 경우 None을 리턴\n",
    "print(\"hi\")\n",
    "\n",
    "print(cabinet.get(5, \"사용 가능\"))  # 키가 없을 경우 None이 아니라 \"사용 가능\"이란 글자를 리턴하고 싶을 경우\n",
    "print(\"hi\")\n",
    "\n",
    "print(3 in cabinet)     # 키가 있는지 확인 : 있으면 True, 없으면 False 리턴\n",
    "print(5 in cabinet)     # 키가 있는지 확인 : 있으면 True, 없으면 False 리턴\n",
    "\n",
    "cabinet = {\"A-3\":\"유재석\", \"B-100\":\"김태호\"}\n",
    "print(cabinet[\"A-3\"])\n",
    "print(cabinet[\"B-100\"])"
   ]
  },
  {
   "cell_type": "markdown",
   "id": "f2a61482",
   "metadata": {},
   "source": [
    "### 새로운 데이터 추가"
   ]
  },
  {
   "cell_type": "code",
   "execution_count": 2,
   "id": "30aa9fab",
   "metadata": {},
   "outputs": [
    {
     "name": "stdout",
     "output_type": "stream",
     "text": [
      "{'A-3': '유재석', 'B-100': '김태호'}\n",
      "{'A-3': '김종국', 'B-100': '김태호', 'C-20': '조세호'}\n"
     ]
    }
   ],
   "source": [
    "print(cabinet)\n",
    "cabinet[\"A-3\"] = \"김종국\"\n",
    "cabinet[\"C-20\"] = \"조세호\"\n",
    "print(cabinet)"
   ]
  },
  {
   "cell_type": "markdown",
   "id": "052b54c3",
   "metadata": {},
   "source": [
    "### 데이터 삭제"
   ]
  },
  {
   "cell_type": "code",
   "execution_count": 3,
   "id": "ef0a9ee0",
   "metadata": {},
   "outputs": [
    {
     "name": "stdout",
     "output_type": "stream",
     "text": [
      "{'B-100': '김태호', 'C-20': '조세호'}\n"
     ]
    }
   ],
   "source": [
    "del cabinet[\"A-3\"]\n",
    "print(cabinet)"
   ]
  },
  {
   "cell_type": "markdown",
   "id": "173ebd25",
   "metadata": {},
   "source": [
    "### 키만 출력"
   ]
  },
  {
   "cell_type": "code",
   "execution_count": 4,
   "id": "83ee5bce",
   "metadata": {},
   "outputs": [
    {
     "name": "stdout",
     "output_type": "stream",
     "text": [
      "dict_keys(['B-100', 'C-20'])\n"
     ]
    }
   ],
   "source": [
    "print(cabinet.keys())"
   ]
  },
  {
   "cell_type": "markdown",
   "id": "e8504dcc",
   "metadata": {},
   "source": [
    "### 데이터값만 출력"
   ]
  },
  {
   "cell_type": "code",
   "execution_count": 5,
   "id": "05b3be75",
   "metadata": {},
   "outputs": [
    {
     "name": "stdout",
     "output_type": "stream",
     "text": [
      "dict_values(['김태호', '조세호'])\n"
     ]
    }
   ],
   "source": [
    "print(cabinet.values())"
   ]
  },
  {
   "cell_type": "markdown",
   "id": "79e60f4d",
   "metadata": {},
   "source": [
    "### 키, 데이터를 쌍으로 출력"
   ]
  },
  {
   "cell_type": "code",
   "execution_count": 6,
   "id": "86f2cba1",
   "metadata": {},
   "outputs": [
    {
     "name": "stdout",
     "output_type": "stream",
     "text": [
      "dict_items([('B-100', '김태호'), ('C-20', '조세호')])\n"
     ]
    }
   ],
   "source": [
    "print(cabinet.items())"
   ]
  },
  {
   "cell_type": "markdown",
   "id": "787b898b",
   "metadata": {},
   "source": [
    "### 사전의 모든 데이터 지우기"
   ]
  },
  {
   "cell_type": "code",
   "execution_count": 7,
   "id": "a8b06236",
   "metadata": {},
   "outputs": [
    {
     "name": "stdout",
     "output_type": "stream",
     "text": [
      "{}\n"
     ]
    }
   ],
   "source": [
    "cabinet.clear()\n",
    "print(cabinet)"
   ]
  },
  {
   "cell_type": "markdown",
   "id": "4df5f9b5",
   "metadata": {},
   "source": [
    "## 튜플 (내용 추가나 변경 불가, 대신 리스트보다 속도가 빠름)"
   ]
  },
  {
   "cell_type": "code",
   "execution_count": 8,
   "id": "69e35502",
   "metadata": {},
   "outputs": [
    {
     "name": "stdout",
     "output_type": "stream",
     "text": [
      "돈까스\n",
      "치즈까스\n",
      "김종국 20 코딩\n",
      "김종국 20 코딩\n"
     ]
    }
   ],
   "source": [
    "menu = (\"돈까스\", \"치즈까스\")   # ()를 사용하여 튜플 생성\n",
    "print(menu[0])\n",
    "print(menu[1])\n",
    "\n",
    "name = \"김종국\"\n",
    "age = 20\n",
    "hobby = \"코딩\"\n",
    "print(name, age, hobby)\n",
    "name, age, hobby = (\"김종국\", 20, \"코딩\")\n",
    "print(name, age, hobby)"
   ]
  },
  {
   "cell_type": "markdown",
   "id": "b71799ed",
   "metadata": {},
   "source": [
    "## 세트 (집합)\n",
    "### 중복 불가, 순서 없음"
   ]
  },
  {
   "cell_type": "code",
   "execution_count": 9,
   "id": "f7518efe",
   "metadata": {},
   "outputs": [
    {
     "name": "stdout",
     "output_type": "stream",
     "text": [
      "{1, 2, 3}\n"
     ]
    }
   ],
   "source": [
    "my_set = {1,2,3,3,3}    # 세트는 {}로 만듦, 사전과 달리 키가 없음\n",
    "print(my_set)       # 중복 불가라서 3은 하나만 출력\n",
    "\n",
    "java = {\"유재석\", \"김태호\", \"양세형\"}\n",
    "python = set([\"유재석\", \"박명수\"])"
   ]
  },
  {
   "cell_type": "markdown",
   "id": "b03d1ea2",
   "metadata": {},
   "source": [
    "### 교집합 만들기"
   ]
  },
  {
   "cell_type": "code",
   "execution_count": 10,
   "id": "4f43760a",
   "metadata": {},
   "outputs": [
    {
     "name": "stdout",
     "output_type": "stream",
     "text": [
      "{'유재석'}\n",
      "{'유재석'}\n"
     ]
    }
   ],
   "source": [
    "print(java & python)\n",
    "print(java.intersection(python))"
   ]
  },
  {
   "cell_type": "markdown",
   "id": "833ec9c9",
   "metadata": {},
   "source": [
    "### 합집합 만들기"
   ]
  },
  {
   "cell_type": "code",
   "execution_count": 11,
   "id": "d7fecc0e",
   "metadata": {},
   "outputs": [
    {
     "name": "stdout",
     "output_type": "stream",
     "text": [
      "{'박명수', '김태호', '유재석', '양세형'}\n",
      "{'박명수', '김태호', '유재석', '양세형'}\n"
     ]
    }
   ],
   "source": [
    "print(java | python)\n",
    "print(java.union(python))"
   ]
  },
  {
   "cell_type": "markdown",
   "id": "d4316c5b",
   "metadata": {},
   "source": [
    "### 차집합 만들기"
   ]
  },
  {
   "cell_type": "code",
   "execution_count": 12,
   "id": "e0b07961",
   "metadata": {},
   "outputs": [
    {
     "name": "stdout",
     "output_type": "stream",
     "text": [
      "{'김태호', '양세형'}\n",
      "{'김태호', '양세형'}\n"
     ]
    }
   ],
   "source": [
    "print(java - python)\n",
    "print(java.difference(python))"
   ]
  },
  {
   "cell_type": "markdown",
   "id": "079e3d22",
   "metadata": {},
   "source": [
    "### 세트에 데이터 추가"
   ]
  },
  {
   "cell_type": "code",
   "execution_count": 13,
   "id": "f1ee32c0",
   "metadata": {},
   "outputs": [
    {
     "name": "stdout",
     "output_type": "stream",
     "text": [
      "{'박명수', '김태호', '유재석'}\n"
     ]
    }
   ],
   "source": [
    "python.add(\"김태호\")\n",
    "print(python)"
   ]
  },
  {
   "cell_type": "markdown",
   "id": "3bff8339",
   "metadata": {},
   "source": [
    "### 세트에 데이터 삭제"
   ]
  },
  {
   "cell_type": "code",
   "execution_count": 14,
   "id": "d79021d7",
   "metadata": {},
   "outputs": [
    {
     "name": "stdout",
     "output_type": "stream",
     "text": [
      "{'유재석', '양세형'}\n"
     ]
    }
   ],
   "source": [
    "java.remove(\"김태호\")\n",
    "print(java)"
   ]
  },
  {
   "cell_type": "code",
   "execution_count": null,
   "id": "789862fb",
   "metadata": {},
   "outputs": [],
   "source": []
  }
 ],
 "metadata": {
  "kernelspec": {
   "display_name": "Python 3",
   "language": "python",
   "name": "python3"
  },
  "language_info": {
   "codemirror_mode": {
    "name": "ipython",
    "version": 3
   },
   "file_extension": ".py",
   "mimetype": "text/x-python",
   "name": "python",
   "nbconvert_exporter": "python",
   "pygments_lexer": "ipython3",
   "version": "3.7.7"
  }
 },
 "nbformat": 4,
 "nbformat_minor": 5
}
