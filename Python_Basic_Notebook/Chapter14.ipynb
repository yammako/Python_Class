{
 "cells": [
  {
   "cell_type": "markdown",
   "id": "a9c072e9",
   "metadata": {},
   "source": [
    "## 예외처리"
   ]
  },
  {
   "cell_type": "code",
   "execution_count": 1,
   "id": "8977d358",
   "metadata": {},
   "outputs": [
    {
     "name": "stdout",
     "output_type": "stream",
     "text": [
      "나누기 전용 계산기입니다.\n",
      "첫 번째 숫자를 입력하세요 : 10\n",
      "두 번째 숫자를 입력하세요 : 0\n",
      "알 수 없는 에러가 발생하였습니다.\n",
      "list index out of range\n"
     ]
    }
   ],
   "source": [
    "try:\n",
    "    print(\"나누기 전용 계산기입니다.\")\n",
    "    nums = []\n",
    "    nums.append(int(input(\"첫 번째 숫자를 입력하세요 : \")))\n",
    "    nums.append(int(input(\"두 번째 숫자를 입력하세요 : \")))\n",
    "    #nums.append(int(nums[0] / nums[1]))\n",
    "    print(\"{0} / {1} = {2}\".format(nums[0], nums[1], nums[2]))\n",
    "except ValueError:\n",
    "    print(\"에러! 잘못된 값을 입력하였습니다.\")\n",
    "except ZeroDivisionError as err:\n",
    "    print(err)\n",
    "except Exception as err:\n",
    "    print(\"알 수 없는 에러가 발생하였습니다.\")\n",
    "    print(err)"
   ]
  },
  {
   "cell_type": "markdown",
   "id": "ca163a78",
   "metadata": {},
   "source": [
    "### 에러 발생 raise 명령"
   ]
  },
  {
   "cell_type": "code",
   "execution_count": 2,
   "id": "d722d869",
   "metadata": {},
   "outputs": [
    {
     "name": "stdout",
     "output_type": "stream",
     "text": [
      "한 자리 숫자 나누기 전용 계산기입니다.\n",
      "첫 번째 숫자를 입력하세요 : 10\n",
      "두 번째 숫자를 입력하세요 : 10\n",
      "잘못된 값을 입력하였습니다. 한 자리 숫자만 입력하세요.\n"
     ]
    }
   ],
   "source": [
    "try:\n",
    "    print(\"한 자리 숫자 나누기 전용 계산기입니다.\")\n",
    "    num1 = int(input(\"첫 번째 숫자를 입력하세요 : \"))\n",
    "    num2 = int(input(\"두 번째 숫자를 입력하세요 : \"))\n",
    "    if num1 >= 10 or num2 >= 10:\n",
    "        raise ValueError            # ValueError 발생 시키는 명령 raise\n",
    "    print(\"{0} / {1} = {2}\".format(num1, num2, int(num1 / num2)))\n",
    "except ValueError:\n",
    "    print(\"잘못된 값을 입력하였습니다. 한 자리 숫자만 입력하세요.\")"
   ]
  },
  {
   "cell_type": "markdown",
   "id": "f08da017",
   "metadata": {},
   "source": [
    "### 사용자 정의 예외처리"
   ]
  },
  {
   "cell_type": "code",
   "execution_count": 3,
   "id": "7d812d36",
   "metadata": {},
   "outputs": [
    {
     "name": "stdout",
     "output_type": "stream",
     "text": [
      "한 자리 숫자 나누기 전용 계산기입니다.\n",
      "첫 번째 숫자를 입력하세요 : 10\n",
      "두 번째 숫자를 입력하세요 : 5\n",
      "에러가 발생하였습니다. 한 자리 숫자만 입력하세요.\n"
     ]
    }
   ],
   "source": [
    "class BigNumberError(Exception):\n",
    "    pass\n",
    "\n",
    "try:\n",
    "    print(\"한 자리 숫자 나누기 전용 계산기입니다.\")\n",
    "    num1 = int(input(\"첫 번째 숫자를 입력하세요 : \"))\n",
    "    num2 = int(input(\"두 번째 숫자를 입력하세요 : \"))\n",
    "    if num1 >= 10 or num2 >= 10:\n",
    "        raise BigNumberError    \n",
    "    print(\"{0} / {1} = {2}\".format(num1, num2, int(num1 / num2)))\n",
    "except ValueError:\n",
    "    print(\"잘못된 값을 입력하였습니다. 한 자리 숫자만 입력하세요.\")\n",
    "except BigNumberError:\n",
    "    print(\"에러가 발생하였습니다. 한 자리 숫자만 입력하세요.\")"
   ]
  },
  {
   "cell_type": "markdown",
   "id": "382e9ef7",
   "metadata": {},
   "source": [
    "### 사용자 정의 예외처리에 메시지 입력하기"
   ]
  },
  {
   "cell_type": "code",
   "execution_count": 4,
   "id": "36a9c9fb",
   "metadata": {},
   "outputs": [
    {
     "name": "stdout",
     "output_type": "stream",
     "text": [
      "한 자리 숫자 나누기 전용 계산기입니다.\n",
      "첫 번째 숫자를 입력하세요 : 10\n",
      "두 번째 숫자를 입력하세요 : 5\n",
      "에러가 발생하였습니다. 한 자리 숫자만 입력하세요.\n",
      "입력값 : 10, 5\n"
     ]
    }
   ],
   "source": [
    "class BigNumberError(Exception):\n",
    "    def __init__(self, msg):\n",
    "        self.msg = msg\n",
    "\n",
    "    def __str__(self):\n",
    "        return self.msg\n",
    "\n",
    "try:\n",
    "    print(\"한 자리 숫자 나누기 전용 계산기입니다.\")\n",
    "    num1 = int(input(\"첫 번째 숫자를 입력하세요 : \"))\n",
    "    num2 = int(input(\"두 번째 숫자를 입력하세요 : \"))\n",
    "    if num1 >= 10 or num2 >= 10:\n",
    "        raise BigNumberError(\"입력값 : {0}, {1}\".format(num1, num2))    \n",
    "    print(\"{0} / {1} = {2}\".format(num1, num2, int(num1 / num2)))\n",
    "except ValueError:\n",
    "    print(\"잘못된 값을 입력하였습니다. 한 자리 숫자만 입력하세요.\")\n",
    "except BigNumberError as err:\n",
    "    print(\"에러가 발생하였습니다. 한 자리 숫자만 입력하세요.\")\n",
    "    print(err)"
   ]
  },
  {
   "cell_type": "markdown",
   "id": "ec094402",
   "metadata": {},
   "source": [
    "### finally : 예외처리와 상관없이 무조건 실행되는 명령"
   ]
  },
  {
   "cell_type": "code",
   "execution_count": 5,
   "id": "a1244367",
   "metadata": {},
   "outputs": [
    {
     "name": "stdout",
     "output_type": "stream",
     "text": [
      "한 자리 숫자 나누기 전용 계산기입니다.\n",
      "첫 번째 숫자를 입력하세요 : 10\n",
      "두 번째 숫자를 입력하세요 : 5\n",
      "에러가 발생하였습니다. 한 자리 숫자만 입력하세요.\n",
      "입력값 : 10, 5\n",
      "계산기를 이용해 주셔서 감사합니다.\n"
     ]
    }
   ],
   "source": [
    "class BigNumberError(Exception):\n",
    "    def __init__(self, msg):\n",
    "        self.msg = msg\n",
    "\n",
    "    def __str__(self):\n",
    "        return self.msg\n",
    "\n",
    "try:\n",
    "    print(\"한 자리 숫자 나누기 전용 계산기입니다.\")\n",
    "    num1 = int(input(\"첫 번째 숫자를 입력하세요 : \"))\n",
    "    num2 = int(input(\"두 번째 숫자를 입력하세요 : \"))\n",
    "    if num1 >= 10 or num2 >= 10:\n",
    "        raise BigNumberError(\"입력값 : {0}, {1}\".format(num1, num2))    \n",
    "    print(\"{0} / {1} = {2}\".format(num1, num2, int(num1 / num2)))\n",
    "except ValueError:\n",
    "    print(\"잘못된 값을 입력하였습니다. 한 자리 숫자만 입력하세요.\")\n",
    "except BigNumberError as err:\n",
    "    print(\"에러가 발생하였습니다. 한 자리 숫자만 입력하세요.\")\n",
    "    print(err)\n",
    "finally:\n",
    "    print(\"계산기를 이용해 주셔서 감사합니다.\")"
   ]
  },
  {
   "cell_type": "markdown",
   "id": "e503acb7",
   "metadata": {},
   "source": [
    "### Quiz\n",
    "동네에 항상 대기 손님이 있는 맛있는 치킨집이 있습니다.\n",
    "\n",
    "대기 손님의 치킨 요리 시간을 줄이고자 자동 주문 시스템을 제작하였습니다.\n",
    "\n",
    "시스템 코드를 확인하고 적절한 예외처리 구문을 넣으시오.\n",
    "\n",
    "조건 1 : 1보다 작거나 숫자가 아닌 입력값이 들어올 때는 ValueError로 처리\n",
    "        \n",
    "        출력 메시지 : \"잘못된 값을 입력하였습니다.\"\n",
    "\n",
    "조건 2 : 대기 손님이 주문할 수 있는 총 치킨량은 10마리로 한정\n",
    "            \n",
    "            치킨 소진 시 사용자 정의 에러[SoldOutError]를 발생시키고 프로그램 종료\n",
    "            \n",
    "            출력 메시지 : \"재고가 소진되어 더 이상 주문을 받지 않습니다.\"\n",
    "\n",
    "[코드]\n",
    "\n",
    "chicken = 10\n",
    "\n",
    "waiting = 1 # 홀 안에는 현재 만석, 대기번호 1부터 시작\n",
    "\n",
    "while(True):\n",
    "    \n",
    "    print(\"[남은 치킨 : {0}]\".format(chicken))\n",
    "    \n",
    "    order = int(input(\"치킨 몇 마리 주문하시겠습니까?\"))\n",
    "    \n",
    "    if order > chicken:\n",
    "        \n",
    "        print(\"재료가 부족합니다.\")\n",
    "    \n",
    "    else:\n",
    "        \n",
    "        print(\"[대기번호 {0}] {1} 마리 주문이 완료되었습니다.\".format(waiting, order))\n",
    "        \n",
    "        waiting += 1\n",
    "        \n",
    "        chicken -= order"
   ]
  },
  {
   "cell_type": "code",
   "execution_count": 6,
   "id": "0579ab5a",
   "metadata": {},
   "outputs": [
    {
     "name": "stdout",
     "output_type": "stream",
     "text": [
      "[남은 치킨 : 10]\n",
      "치킨 몇 마리 주문하시겠습니까?5\n",
      "[대기번호 1] 5 마리 주문이 완료되었습니다.\n",
      "[남은 치킨 : 5]\n",
      "치킨 몇 마리 주문하시겠습니까?3\n",
      "[대기번호 2] 3 마리 주문이 완료되었습니다.\n",
      "[남은 치킨 : 2]\n",
      "치킨 몇 마리 주문하시겠습니까?2\n",
      "[대기번호 3] 2 마리 주문이 완료되었습니다.\n",
      "[남은 치킨 : 0]\n",
      "치킨 몇 마리 주문하시겠습니까?1\n",
      "재료가 부족합니다.\n",
      "재고가 소진되어 더 이상 주문을 받지 않습니다.\n"
     ]
    }
   ],
   "source": [
    "class SoldOutError(Exception):\n",
    "    def __init__(self, msg):\n",
    "        self.msg = msg\n",
    "\n",
    "    def __str__(self):\n",
    "        return self.msg\n",
    "\n",
    "chicken = 10\n",
    "waiting = 1 # 홀 안에는 현재 만석, 대기번호 1부터 시작\n",
    "while(True):\n",
    "    try:\n",
    "        print(\"[남은 치킨 : {0}]\".format(chicken))\n",
    "        order = int(input(\"치킨 몇 마리 주문하시겠습니까?\"))\n",
    "        if order < 1:\n",
    "            raise ValueError\n",
    "\n",
    "        if order > chicken:\n",
    "            print(\"재료가 부족합니다.\")\n",
    "            raise SoldOutError(\"재고가 소진되어 더 이상 주문을 받지 않습니다.\")\n",
    "        else:\n",
    "            print(\"[대기번호 {0}] {1} 마리 주문이 완료되었습니다.\".format(waiting, order))\n",
    "            waiting += 1\n",
    "            chicken -= order\n",
    "\n",
    "    except ValueError:\n",
    "        print(\"잘못된 값을 입력하였습니다.\")\n",
    "    except SoldOutError as err:\n",
    "        print(err)\n",
    "        break"
   ]
  },
  {
   "cell_type": "code",
   "execution_count": null,
   "id": "93c78171",
   "metadata": {},
   "outputs": [],
   "source": []
  }
 ],
 "metadata": {
  "kernelspec": {
   "display_name": "Python 3",
   "language": "python",
   "name": "python3"
  },
  "language_info": {
   "codemirror_mode": {
    "name": "ipython",
    "version": 3
   },
   "file_extension": ".py",
   "mimetype": "text/x-python",
   "name": "python",
   "nbconvert_exporter": "python",
   "pygments_lexer": "ipython3",
   "version": "3.7.7"
  }
 },
 "nbformat": 4,
 "nbformat_minor": 5
}
