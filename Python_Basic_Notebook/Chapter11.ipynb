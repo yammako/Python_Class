{
 "cells": [
  {
   "cell_type": "markdown",
   "id": "38a74f23",
   "metadata": {},
   "source": [
    "## 파일 입출력\n",
    "### 파일 쓰기"
   ]
  },
  {
   "cell_type": "code",
   "execution_count": 2,
   "id": "067406ad",
   "metadata": {},
   "outputs": [],
   "source": [
    "score_file = open(\"score.txt\", \"w\", encoding=\"utf8\")    # 파일 만드는 명령 open, w는 쓰기, utf8은 한글 사용을 위해 사용\n",
    "print(\"수학 : 0\", file=score_file)\n",
    "print(\"영어 : 50\", file=score_file)\n",
    "score_file.close()\n",
    "\n",
    "score_file = open(\"score.txt\", \"a\", encoding=\"utf8\")    # 기존 파일에 내용 추가할 경우 a 옵션 사용\n",
    "score_file.write(\"과학 : 80\")\n",
    "score_file.write(\"\\n코딩 : 100\")\n",
    "score_file.close()"
   ]
  },
  {
   "cell_type": "markdown",
   "id": "2c06e13e",
   "metadata": {},
   "source": [
    "### score.txt 파일이 생성되고 내용이 저장됨\n",
    "\n",
    "### 파일 읽기"
   ]
  },
  {
   "cell_type": "code",
   "execution_count": 3,
   "id": "0f2c2550",
   "metadata": {},
   "outputs": [
    {
     "name": "stdout",
     "output_type": "stream",
     "text": [
      "수학 : 0\n",
      "영어 : 50\n",
      "과학 : 80\n",
      "코딩 : 100\n"
     ]
    }
   ],
   "source": [
    "score_file = open(\"score.txt\", \"r\", encoding=\"utf8\")    # 파일을 읽을 때는 r 옵션 사용\n",
    "print(score_file.read())        # .read()는 파일의 내용을 불러옴\n",
    "score_file.close()"
   ]
  },
  {
   "cell_type": "markdown",
   "id": "ce755608",
   "metadata": {},
   "source": [
    "### 파일 내용을 한 줄씩 읽어오기"
   ]
  },
  {
   "cell_type": "code",
   "execution_count": 4,
   "id": "a8505e57",
   "metadata": {},
   "outputs": [
    {
     "name": "stdout",
     "output_type": "stream",
     "text": [
      "수학 : 0\n",
      "\n",
      "영어 : 50\n",
      "\n",
      "과학 : 80\n",
      "\n",
      "코딩 : 100\n"
     ]
    }
   ],
   "source": [
    "score_file = open(\"score.txt\", \"r\", encoding=\"utf8\")    # 파일을 읽을 때는 r 옵션 사용\n",
    "print(score_file.readline())    # 한 줄씩 읽어오고 커서는 다음 줄로 이동\n",
    "print(score_file.readline())    # 한 줄씩 읽어오고 커서는 다음 줄로 이동\n",
    "print(score_file.readline())    # 한 줄씩 읽어오고 커서는 다음 줄로 이동\n",
    "print(score_file.readline())    # 한 줄씩 읽어오고 커서는 다음 줄로 이동\n",
    "score_file.close()"
   ]
  },
  {
   "cell_type": "markdown",
   "id": "13c80cdb",
   "metadata": {},
   "source": [
    "### 줄바꿈하기 싫을 때"
   ]
  },
  {
   "cell_type": "code",
   "execution_count": 5,
   "id": "d80075fd",
   "metadata": {},
   "outputs": [
    {
     "name": "stdout",
     "output_type": "stream",
     "text": [
      "수학 : 0\n",
      "영어 : 50\n",
      "과학 : 80\n",
      "코딩 : 100"
     ]
    }
   ],
   "source": [
    "score_file = open(\"score.txt\", \"r\", encoding=\"utf8\")    # 파일을 읽을 때는 r 옵션 사용\n",
    "print(score_file.readline(), end=\"\")    # 한 줄씩 읽어오고 커서는 다음 줄로 이동\n",
    "print(score_file.readline(), end=\"\")    # 한 줄씩 읽어오고 커서는 다음 줄로 이동\n",
    "print(score_file.readline(), end=\"\")    # 한 줄씩 읽어오고 커서는 다음 줄로 이동\n",
    "print(score_file.readline(), end=\"\")    # 한 줄씩 읽어오고 커서는 다음 줄로 이동\n",
    "score_file.close()"
   ]
  },
  {
   "cell_type": "markdown",
   "id": "b7befd1c",
   "metadata": {},
   "source": [
    "### 파일의 데이터가 몇 줄인지 모를 때"
   ]
  },
  {
   "cell_type": "code",
   "execution_count": 6,
   "id": "8babd396",
   "metadata": {},
   "outputs": [
    {
     "name": "stdout",
     "output_type": "stream",
     "text": [
      "수학 : 0\n",
      "영어 : 50\n",
      "과학 : 80\n",
      "코딩 : 100"
     ]
    }
   ],
   "source": [
    "score_file = open(\"score.txt\", \"r\", encoding=\"utf8\")    # 파일을 읽을 때는 r 옵션 사용\n",
    "while True:\n",
    "    line = score_file.readline()\n",
    "    if not line:\n",
    "        break\n",
    "    print(line, end=\"\")\n",
    "score_file.close()"
   ]
  },
  {
   "cell_type": "markdown",
   "id": "ffc67dde",
   "metadata": {},
   "source": [
    "### 리스트에 넣어 사용하는 법"
   ]
  },
  {
   "cell_type": "code",
   "execution_count": 7,
   "id": "702b276c",
   "metadata": {},
   "outputs": [
    {
     "name": "stdout",
     "output_type": "stream",
     "text": [
      "수학 : 0\n",
      "영어 : 50\n",
      "과학 : 80\n",
      "코딩 : 100"
     ]
    }
   ],
   "source": [
    "score_file = open(\"score.txt\", \"r\", encoding=\"utf8\")    # 파일을 읽을 때는 r 옵션 사용\n",
    "lines = score_file.readlines()  # readlines는 list 형태로 저장\n",
    "for line in lines:\n",
    "    print(line, end=\"\")\n",
    "\n",
    "score_file.close()"
   ]
  },
  {
   "cell_type": "markdown",
   "id": "484cacec",
   "metadata": {},
   "source": [
    "## 피클 : 프로그램상에서 사용하는 값을 파일로 저장하는 기능"
   ]
  },
  {
   "cell_type": "code",
   "execution_count": 8,
   "id": "7929efe0",
   "metadata": {},
   "outputs": [
    {
     "name": "stdout",
     "output_type": "stream",
     "text": [
      "{'이름': '박명수', '나이': 30, '취미': ['축구', '골프', '코딩']}\n"
     ]
    }
   ],
   "source": [
    "import pickle\n",
    "profile_file = open(\"profile.pickle\", \"wb\")     # wb는 바이너리로 저장 (반드시 바이너리로 저장해야 함)\n",
    "profile = {\"이름\":\"박명수\", \"나이\":30, \"취미\":[\"축구\", \"골프\", \"코딩\"]}\n",
    "print(profile)\n",
    "pickle.dump(profile, profile_file)      # profile에 있는 정보를 file에 저장\n",
    "profile_file.close()"
   ]
  },
  {
   "cell_type": "markdown",
   "id": "391cfa37",
   "metadata": {},
   "source": [
    "### 저장한 파일 내용 가져오기"
   ]
  },
  {
   "cell_type": "code",
   "execution_count": 9,
   "id": "4e7202db",
   "metadata": {},
   "outputs": [
    {
     "name": "stdout",
     "output_type": "stream",
     "text": [
      "{'이름': '박명수', '나이': 30, '취미': ['축구', '골프', '코딩']}\n"
     ]
    }
   ],
   "source": [
    "profile_file = open(\"profile.pickle\", \"rb\")     # rb는 바이너리로 읽기 (반드시 바이너리로 저장해야 함)\n",
    "profile = pickle.load(profile_file)     # 파일에 있는 정보를 profile에 불러오기\n",
    "print(profile)\n",
    "profile_file.close()"
   ]
  },
  {
   "cell_type": "markdown",
   "id": "5272e77b",
   "metadata": {},
   "source": [
    "## with 명령어"
   ]
  },
  {
   "cell_type": "code",
   "execution_count": 10,
   "id": "d604292a",
   "metadata": {},
   "outputs": [
    {
     "name": "stdout",
     "output_type": "stream",
     "text": [
      "{'이름': '박명수', '나이': 30, '취미': ['축구', '골프', '코딩']}\n",
      "파이썬을 열심히 공부하고 있어요.\n"
     ]
    }
   ],
   "source": [
    "import pickle\n",
    "# with는 file close가 필요 없다.\n",
    "with open(\"profile.pickle\", \"rb\") as profile_file:\n",
    "    print(pickle.load(profile_file))\n",
    "\n",
    "# with를 사용해서 파일 쓰기\n",
    "with open(\"study.txt\", \"w\", encoding=\"utf8\") as study_file:\n",
    "    study_file.write(\"파이썬을 열심히 공부하고 있어요.\")\n",
    "# with를 사용해서 파일 읽기\n",
    "with open(\"study.txt\", \"r\", encoding=\"utf8\") as study_file:\n",
    "    print(study_file.read())"
   ]
  },
  {
   "cell_type": "markdown",
   "id": "963757a0",
   "metadata": {},
   "source": [
    "### Quiz\n",
    "당신의 회사에서는 매주 1회 작성해야 하는 보고서가 있습니다.\n",
    "\n",
    "보고서는 항상 아래와 같은 형태로 출력되어야 합니다.\n",
    "\n",
    "\n",
    "- X 주차 주간보고 -\n",
    "\n",
    "부서 :\n",
    "\n",
    "이름 :\n",
    "\n",
    "업무 요약 :\n",
    "\n",
    "\n",
    "1주차부터 50주차까지의 보고서 파일을 만드는 프로그램을 작성하시오.\n",
    "\n",
    "\n",
    "조건 : 파일명은 '1주차.txt', '2주차.txt', ...와 같이 만듭니다."
   ]
  },
  {
   "cell_type": "code",
   "execution_count": 11,
   "id": "e1ec70f4",
   "metadata": {},
   "outputs": [],
   "source": [
    "for week in range(1, 51):\n",
    "    with open(\"{0}주차.txt\".format(week), \"w\", encoding=\"utf8\") as report_file:\n",
    "        report_file.write(\"- {0} 주차 주간보고 -\\n부서 :\\n이름 :\\n업무 요약 :\".format(week))"
   ]
  },
  {
   "cell_type": "markdown",
   "id": "46d623c9",
   "metadata": {},
   "source": [
    "### 1주차.txt ~ 50주차.txt 파일이 생성되고 내용이 기록된다."
   ]
  },
  {
   "cell_type": "code",
   "execution_count": null,
   "id": "88ad7378",
   "metadata": {},
   "outputs": [],
   "source": []
  }
 ],
 "metadata": {
  "kernelspec": {
   "display_name": "Python 3",
   "language": "python",
   "name": "python3"
  },
  "language_info": {
   "codemirror_mode": {
    "name": "ipython",
    "version": 3
   },
   "file_extension": ".py",
   "mimetype": "text/x-python",
   "name": "python",
   "nbconvert_exporter": "python",
   "pygments_lexer": "ipython3",
   "version": "3.7.7"
  }
 },
 "nbformat": 4,
 "nbformat_minor": 5
}
