{
 "cells": [
  {
   "cell_type": "markdown",
   "id": "50797c30",
   "metadata": {},
   "source": [
    "## 자료형 변경"
   ]
  },
  {
   "cell_type": "code",
   "execution_count": 1,
   "id": "f17e9e5b",
   "metadata": {},
   "outputs": [
    {
     "name": "stdout",
     "output_type": "stream",
     "text": [
      "{'우유', '커피', '주스'} <class 'set'>\n",
      "['우유', '커피', '주스'] <class 'list'>\n",
      "('우유', '커피', '주스') <class 'tuple'>\n",
      "{'우유', '커피', '주스'} <class 'set'>\n"
     ]
    }
   ],
   "source": [
    "menu = {\"커피\", \"우유\", \"주스\"}\n",
    "print(menu, type(menu))\n",
    "\n",
    "menu = list(menu)\n",
    "print(menu, type(menu))\n",
    "\n",
    "menu = tuple(menu)\n",
    "print(menu, type(menu))\n",
    "\n",
    "menu = set(menu)\n",
    "print(menu, type(menu))"
   ]
  },
  {
   "cell_type": "markdown",
   "id": "3b6b0e1d",
   "metadata": {},
   "source": [
    "## Quiz\n",
    "당신의 학교에서는 파이썬 코딩 대회를 주최합니다.\n",
    "\n",
    "참석률을 높이기 위해 댓글 이벤트를 진행하기로 하였습니다.\n",
    "\n",
    "댓글 작성자들 중에 추첨을 통해 1명은 치킨, 3명은 커피 쿠폰을 받게 됩니다.\n",
    "\n",
    "추첨 프로그램을 작성하시오.\n",
    "\n",
    "\n",
    "조건 1 : 편의상 댓글은 20명이 작성하였고 아이디는 1~20 이라고 가정\n",
    "\n",
    "조건 2 : 댓글 내용과 상관 없이 무작위로 추첨하되 중복 불가\n",
    "\n",
    "조건 3 : random 모듈의 shuffle과 sample을 활용\n",
    "\n",
    "\n",
    "(출력 예제)\n",
    "\n",
    "-- 당첨자 발표 --\n",
    "\n",
    "치킨 당첨자 : 1\n",
    "\n",
    "커피 당첨자 : [2, 3, 4]\n",
    "\n",
    "-- 축하합니다 --\n",
    "\n",
    "\n",
    "(활용 예제)\n",
    "\n",
    "from random import *\n",
    "\n",
    "lst = [1, 2, 3, 4, 5]\n",
    "\n",
    "print(lst)\n",
    "\n",
    "shuffle(lst)\n",
    "\n",
    "print(lst)\n",
    "\n",
    "print(sample(lst, 1))"
   ]
  },
  {
   "cell_type": "code",
   "execution_count": 2,
   "id": "f315b061",
   "metadata": {},
   "outputs": [
    {
     "name": "stdout",
     "output_type": "stream",
     "text": [
      "[1, 2, 3, 4, 5, 6, 7, 8, 9, 10, 11, 12, 13, 14, 15, 16, 17, 18, 19, 20]\n",
      "-- 당첨자 발표 --\n",
      "치킨 당첨자 : 7\n",
      "커피 당첨자 : [16, 10, 4]\n",
      "-- 축하합니다 --\n",
      "-- 당첨자 발표 --\n",
      "치킨 당첨자 : 7\n",
      "커피 당첨자 : [16, 10, 4]\n",
      "-- 축하합니다 --\n"
     ]
    }
   ],
   "source": [
    "from random import *\n",
    "# lst = [1,2,3,4,5,6,7,8,9,10,11,12,13,14,15,16,17,18,19,20]\n",
    "lst = list(range(1, 21))      # 1 ~ 20까지 생성\n",
    "print(lst)\n",
    "shuffle(lst)\n",
    "winners = sample(lst, 4)\n",
    "print(\"-- 당첨자 발표 --\")\n",
    "print(\"치킨 당첨자 : {0}\".format(winners[0]))\n",
    "print(\"커피 당첨자 : {0}\".format(winners[1:]))\n",
    "print(\"-- 축하합니다 --\")\n",
    "print(\"-- 당첨자 발표 --\\n치킨 당첨자 : \" + str(winners[0]) + \"\\n커피 당첨자 : \" + str(winners[1:]) + \"\\n-- 축하합니다 --\")"
   ]
  },
  {
   "cell_type": "code",
   "execution_count": null,
   "id": "a3c63172",
   "metadata": {},
   "outputs": [],
   "source": []
  }
 ],
 "metadata": {
  "kernelspec": {
   "display_name": "Python 3",
   "language": "python",
   "name": "python3"
  },
  "language_info": {
   "codemirror_mode": {
    "name": "ipython",
    "version": 3
   },
   "file_extension": ".py",
   "mimetype": "text/x-python",
   "name": "python",
   "nbconvert_exporter": "python",
   "pygments_lexer": "ipython3",
   "version": "3.7.7"
  }
 },
 "nbformat": 4,
 "nbformat_minor": 5
}
