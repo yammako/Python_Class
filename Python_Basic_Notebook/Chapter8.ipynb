{
 "cells": [
  {
   "cell_type": "markdown",
   "id": "ad87a998",
   "metadata": {},
   "source": [
    "## 함수\n",
    "### 입력 파라미터가 없는 함수"
   ]
  },
  {
   "cell_type": "code",
   "execution_count": 2,
   "id": "05c415a4",
   "metadata": {},
   "outputs": [
    {
     "name": "stdout",
     "output_type": "stream",
     "text": [
      "새로운 계좌가 생성되었습니다.\n"
     ]
    }
   ],
   "source": [
    "def open_account():\n",
    "    print(\"새로운 계좌가 생성되었습니다.\")\n",
    "open_account()"
   ]
  },
  {
   "cell_type": "markdown",
   "id": "ab32ac9b",
   "metadata": {},
   "source": [
    "### 입력 파라미터가 있는 경우"
   ]
  },
  {
   "cell_type": "code",
   "execution_count": 3,
   "id": "93418e29",
   "metadata": {},
   "outputs": [
    {
     "name": "stdout",
     "output_type": "stream",
     "text": [
      "입금이 완료되었습니다. 잔액은 1000 원입니다.\n",
      "출금이 완료되었습니다. 잔액은 500 원입니다.\n",
      "출금이 완료되지 않았습니다. 잔액은 500 원입니다.\n",
      "출금이 완료되지 않았습니다. 잔액은 500 원입니다.\n",
      "500\n"
     ]
    }
   ],
   "source": [
    "def deposit(balance, money):\n",
    "    print(\"입금이 완료되었습니다. 잔액은 {0} 원입니다.\".format(balance + money))\n",
    "    return balance + money\n",
    "\n",
    "def withdraw(balance, money):\n",
    "    if balance >= money:\n",
    "        print(\"출금이 완료되었습니다. 잔액은 {0} 원입니다.\".format(balance - money))\n",
    "        return balance - money\n",
    "    else:\n",
    "        print(\"출금이 완료되지 않았습니다. 잔액은 {0} 원입니다.\".format(balance))\n",
    "        return balance\n",
    "\n",
    "def withdraw_night(balance, money):\n",
    "    commission = 100\n",
    "    if balance >= money + commission:\n",
    "        print(\"출금이 완료되었습니다. 잔액은 {0} 원입니다.\".format(balance - (money + commission)))\n",
    "        return balance - (money + commission)\n",
    "    else:\n",
    "        print(\"출금이 완료되지 않았습니다. 잔액은 {0} 원입니다.\".format(balance))\n",
    "        return balance\n",
    "balance = 0\n",
    "balance = deposit(balance, 1000)\n",
    "balance = withdraw(balance, 500)\n",
    "balance = withdraw_night(balance, 500)\n",
    "balance = withdraw(balance, 2000)\n",
    "print(balance)"
   ]
  },
  {
   "cell_type": "markdown",
   "id": "22d384d2",
   "metadata": {},
   "source": [
    "### 함수의 기본값"
   ]
  },
  {
   "cell_type": "code",
   "execution_count": 4,
   "id": "a4601550",
   "metadata": {},
   "outputs": [
    {
     "name": "stdout",
     "output_type": "stream",
     "text": [
      "이름 : 유재석\t나이 : 20\t주 사용 언어 : 파이썬\n",
      "이름 : 김태호\t나이 : 25\t주 사용 언어 : 자바\n"
     ]
    }
   ],
   "source": [
    "def profile(name, age, main_lang):\n",
    "    print(\"이름 : {0}\\t나이 : {1}\\t주 사용 언어 : {2}\".format(name, age, main_lang))\n",
    "\n",
    "profile(\"유재석\", 20, \"파이썬\")\n",
    "profile(\"김태호\", 25, \"자바\")"
   ]
  },
  {
   "cell_type": "markdown",
   "id": "cf4bd3aa",
   "metadata": {},
   "source": [
    "### 만약 나이가 같다면 나이를 입력할 필요가 없다. 이 때 기본값을 사용한다."
   ]
  },
  {
   "cell_type": "code",
   "execution_count": 5,
   "id": "3e70cb27",
   "metadata": {},
   "outputs": [
    {
     "name": "stdout",
     "output_type": "stream",
     "text": [
      "이름 : 유재석\t나이 : 17\t주 사용 언어 : 파이썬\n",
      "이름 : 김태호\t나이 : 17\t주 사용 언어 : 자바\n"
     ]
    }
   ],
   "source": [
    "def profile1(name, main_lang, age=17):\n",
    "    print(\"이름 : {0}\\t나이 : {1}\\t주 사용 언어 : {2}\".format(name, age, main_lang))\n",
    "\n",
    "profile1(\"유재석\", \"파이썬\")\n",
    "profile1(\"김태호\", \"자바\")"
   ]
  },
  {
   "cell_type": "markdown",
   "id": "9c5d348c",
   "metadata": {},
   "source": [
    "### 키워드를 사용한 함수의 파라미터 입력 (순서와 관계없다.)"
   ]
  },
  {
   "cell_type": "code",
   "execution_count": 6,
   "id": "2a6353ac",
   "metadata": {},
   "outputs": [
    {
     "name": "stdout",
     "output_type": "stream",
     "text": [
      "이름 : 유재석\t나이 : 17\t주 사용 언어 : 자바\n",
      "이름 : 김태호\t나이 : 18\t주 사용 언어 : 파이썬\n"
     ]
    }
   ],
   "source": [
    "profile1(main_lang=\"자바\", name=\"유재석\")\n",
    "profile1(age = 18, name=\"김태호\", main_lang=\"파이썬\")"
   ]
  },
  {
   "cell_type": "markdown",
   "id": "921ff300",
   "metadata": {},
   "source": [
    "### 가변인자를 이용한 함수 호출"
   ]
  },
  {
   "cell_type": "code",
   "execution_count": 7,
   "id": "75e64e05",
   "metadata": {},
   "outputs": [
    {
     "name": "stdout",
     "output_type": "stream",
     "text": [
      "이름 : 유재석\t나이 : 20\t Python Java C C++ C#\n",
      "이름 : 김태호\t나이 : 25\t Kotlin Swift   \n",
      "이름 : 유재석\t나이 : 20\t Python Java C C++ C# Javascript \n",
      "이름 : 김태호\t나이 : 25\t Kotlin Swift \n"
     ]
    }
   ],
   "source": [
    "def profile2(name, age, lang1, lang2, lang3, lang4, lang5):\n",
    "    print(\"이름 : {0}\\t나이 : {1}\\t\".format(name, age), end=\" \")\n",
    "    print(lang1, lang2, lang3, lang4, lang5)\n",
    "\n",
    "profile2(\"유재석\", 20, \"Python\", \"Java\", \"C\", \"C++\", \"C#\")\n",
    "profile2(\"김태호\", 25, \"Kotlin\", \"Swift\", \"\", \"\", \"\")\n",
    "\n",
    "def profile3(name, age, *language):    # 가변인자는 *을 사용한다. \n",
    "    print(\"이름 : {0}\\t나이 : {1}\\t\".format(name, age), end=\" \")        # 줄바꿈을 피하기 위해 end=\" \"를 사용\n",
    "    for lang in language:   \n",
    "        print(lang, end=\" \")        # 줄바꿈을 피하기 위해 end=\" \"를 사용\n",
    "    print()     # 줄바꿈을 위해 print()를 사용\n",
    "\n",
    "profile3(\"유재석\", 20, \"Python\", \"Java\", \"C\", \"C++\", \"C#\", \"Javascript\")\n",
    "profile3(\"김태호\", 25, \"Kotlin\", \"Swift\")"
   ]
  },
  {
   "cell_type": "code",
   "execution_count": null,
   "id": "77047e76",
   "metadata": {},
   "outputs": [],
   "source": []
  }
 ],
 "metadata": {
  "kernelspec": {
   "display_name": "Python 3",
   "language": "python",
   "name": "python3"
  },
  "language_info": {
   "codemirror_mode": {
    "name": "ipython",
    "version": 3
   },
   "file_extension": ".py",
   "mimetype": "text/x-python",
   "name": "python",
   "nbconvert_exporter": "python",
   "pygments_lexer": "ipython3",
   "version": "3.7.7"
  }
 },
 "nbformat": 4,
 "nbformat_minor": 5
}
