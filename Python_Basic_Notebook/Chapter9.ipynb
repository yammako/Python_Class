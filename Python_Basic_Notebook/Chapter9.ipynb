{
 "cells": [
  {
   "cell_type": "markdown",
   "id": "880a49a3",
   "metadata": {},
   "source": [
    "## 지역변수와 전역변수\n",
    "### 지역변수는 함수에서만 사용하는 것\n",
    "### 전역변수는 프로그램 전체에서 사용하는 것"
   ]
  },
  {
   "cell_type": "code",
   "execution_count": 1,
   "id": "b854fec2",
   "metadata": {},
   "outputs": [
    {
     "name": "stdout",
     "output_type": "stream",
     "text": [
      "전체 총 수 : 10\n",
      "[함수 내] 남은 총 : 18\n",
      "남은 총 : 10\n"
     ]
    }
   ],
   "source": [
    "gun = 10\n",
    "\n",
    "def checkpoint(soldiers):   # 경계근무\n",
    "    gun = 20\n",
    "    gun = gun - soldiers\n",
    "    print(\"[함수 내] 남은 총 : {0}\".format(gun))\n",
    "\n",
    "print(\"전체 총 수 : {0}\".format(gun))       # 전역 변수 gun 출력\n",
    "checkpoint(2)   # 2명이 경계 근무 나감      지역 변수 gun 출력\n",
    "print(\"남은 총 : {0}\".format(gun))          # 전역 변수 gun 출력"
   ]
  },
  {
   "cell_type": "markdown",
   "id": "21638a5a",
   "metadata": {},
   "source": [
    "### 전역변수 설정으로 함수 사용하는 법 (잘 사용하지 않음. 전역 변수가 많으면 프로그램에 혼돈이 생길 수 있음)"
   ]
  },
  {
   "cell_type": "code",
   "execution_count": 2,
   "id": "8159f99a",
   "metadata": {},
   "outputs": [
    {
     "name": "stdout",
     "output_type": "stream",
     "text": [
      "전체 총 수 : 10\n",
      "[함수 내] 남은 총 : 8\n",
      "남은 총 : 8\n"
     ]
    }
   ],
   "source": [
    "def checkpoint(soldiers):   # 경계근무\n",
    "    global gun          # 전역 변수 설정\n",
    "    gun = gun - soldiers\n",
    "    print(\"[함수 내] 남은 총 : {0}\".format(gun))\n",
    "print(\"전체 총 수 : {0}\".format(gun))       # 전역 변수 gun 출력\n",
    "checkpoint(2)   # 2명이 경계 근무 나감      지역 변수 gun 출력\n",
    "print(\"남은 총 : {0}\".format(gun))          # 전역 변수 gun 출력"
   ]
  },
  {
   "cell_type": "markdown",
   "id": "aa6571ed",
   "metadata": {},
   "source": [
    "### 전역변수와 지역변수를 함께 사용하는 법 (주로 사용하는 방법)"
   ]
  },
  {
   "cell_type": "code",
   "execution_count": 3,
   "id": "2b32cf8a",
   "metadata": {},
   "outputs": [
    {
     "name": "stdout",
     "output_type": "stream",
     "text": [
      "전체 총 수 : 8\n",
      "[함수 내] 남은 총 : 6\n",
      "남은 총 : 6\n"
     ]
    }
   ],
   "source": [
    "def checkpoint_ret(gun, soldiers):   # 경계근무\n",
    "    gun = gun - soldiers\n",
    "    print(\"[함수 내] 남은 총 : {0}\".format(gun))\n",
    "    return gun\n",
    "\n",
    "print(\"전체 총 수 : {0}\".format(gun))       # 전역 변수 gun 출력\n",
    "# checkpoint(2)   # 2명이 경계 근무 나감      지역 변수 gun 출력\n",
    "gun = checkpoint_ret(gun, 2)\n",
    "print(\"남은 총 : {0}\".format(gun))          # 전역 변수 gun 출력"
   ]
  },
  {
   "cell_type": "markdown",
   "id": "9976e1b3",
   "metadata": {},
   "source": [
    "### Quiz\n",
    "표준 체중을 구하는 프로그램을 작성하시오\n",
    "\n",
    "* 표준 체중 : 각 개인의 키에 적당한 체중\n",
    "\n",
    "\n",
    "(성별에 따른 공식)\n",
    "\n",
    "남자 : 키(m) X 키(m) X 22\n",
    "\n",
    "여자 : 키(m) X 키(m) X 21\n",
    "\n",
    "\n",
    "조건 1 : 표준 체중은 별도의 함수 내에서 계산\n",
    "\n",
    "        * 함수명 : std_weight\n",
    "        \n",
    "        * 전달값 : 키(height), 성별(gender)\n",
    "\n",
    "조건 2 : 표준 체중은 소수점 둘째자리까지 표시\n",
    "\n",
    "\n",
    "(출력 예제)\n",
    "\n",
    "키 175cm 남자의 표준 체중은 67.38kg 입니다."
   ]
  },
  {
   "cell_type": "code",
   "execution_count": 4,
   "id": "31dfc4d3",
   "metadata": {},
   "outputs": [
    {
     "name": "stdout",
     "output_type": "stream",
     "text": [
      "키를 입력해 주세요 (cm): 175\n",
      "성별을 입력해 주세요 (남자/여자) : 남자\n",
      "키 175cm 남자의 표준 체중은 67.38kg 입니다.\n"
     ]
    }
   ],
   "source": [
    "def std_weight(height, gender):\n",
    "    if gender == \"남자\":\n",
    "        weight = round((int(height)/100) * (int(height)/100) * 22, 2)\n",
    "    else:\n",
    "        weight = round((int(height)/100) * (int(height)/100) * 21, 2)\n",
    "    return weight\n",
    "\n",
    "height = input(\"키를 입력해 주세요 (cm): \")\n",
    "gender = input(\"성별을 입력해 주세요 (남자/여자) : \")\n",
    "\n",
    "weight = std_weight(height, gender)\n",
    "print(\"키 {0}cm {1}의 표준 체중은 {2}kg 입니다.\".format(height, gender, weight))"
   ]
  },
  {
   "cell_type": "code",
   "execution_count": null,
   "id": "51a4c6cb",
   "metadata": {},
   "outputs": [],
   "source": []
  }
 ],
 "metadata": {
  "kernelspec": {
   "display_name": "Python 3",
   "language": "python",
   "name": "python3"
  },
  "language_info": {
   "codemirror_mode": {
    "name": "ipython",
    "version": 3
   },
   "file_extension": ".py",
   "mimetype": "text/x-python",
   "name": "python",
   "nbconvert_exporter": "python",
   "pygments_lexer": "ipython3",
   "version": "3.7.7"
  }
 },
 "nbformat": 4,
 "nbformat_minor": 5
}
