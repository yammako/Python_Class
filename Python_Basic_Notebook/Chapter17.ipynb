{
 "cells": [
  {
   "cell_type": "markdown",
   "id": "d42ed826",
   "metadata": {},
   "source": [
    "# 내장함수와 외부함수\n",
    "## 내장 함수 (기본 함수)"
   ]
  },
  {
   "cell_type": "markdown",
   "id": "e384d49a",
   "metadata": {},
   "source": [
    "### input : 사용자 입력을 받는 함수"
   ]
  },
  {
   "cell_type": "code",
   "execution_count": 1,
   "id": "1d45580a",
   "metadata": {},
   "outputs": [
    {
     "name": "stdout",
     "output_type": "stream",
     "text": [
      "무슨 언어를 좋아하세요? 파이썬\n",
      "파이썬는 아주 좋은 언어입니다!\n"
     ]
    }
   ],
   "source": [
    "language = input(\"무슨 언어를 좋아하세요? \")\n",
    "print(\"{0}는 아주 좋은 언어입니다!\".format(language))"
   ]
  },
  {
   "cell_type": "markdown",
   "id": "1dd3f1e7",
   "metadata": {},
   "source": [
    "### dir : 어떤 객체를 넘겨줬을 때 그 객체가 어떤 변수와 함수를 가지고 있는지 표시"
   ]
  },
  {
   "cell_type": "code",
   "execution_count": 2,
   "id": "63aa0309",
   "metadata": {},
   "outputs": [
    {
     "name": "stdout",
     "output_type": "stream",
     "text": [
      "['In', 'Out', '_', '__', '___', '__builtin__', '__builtins__', '__doc__', '__loader__', '__name__', '__package__', '__spec__', '_dh', '_i', '_i1', '_i2', '_ih', '_ii', '_iii', '_oh', 'exit', 'get_ipython', 'language', 'quit']\n"
     ]
    }
   ],
   "source": [
    "print(dir())"
   ]
  },
  {
   "cell_type": "code",
   "execution_count": 3,
   "id": "bee25e34",
   "metadata": {},
   "outputs": [
    {
     "name": "stdout",
     "output_type": "stream",
     "text": [
      "['In', 'Out', '_', '__', '___', '__builtin__', '__builtins__', '__doc__', '__loader__', '__name__', '__package__', '__spec__', '_dh', '_i', '_i1', '_i2', '_i3', '_ih', '_ii', '_iii', '_oh', 'exit', 'get_ipython', 'language', 'quit', 'random']\n"
     ]
    }
   ],
   "source": [
    "import random\n",
    "print(dir())"
   ]
  },
  {
   "cell_type": "code",
   "execution_count": 5,
   "id": "97602988",
   "metadata": {},
   "outputs": [
    {
     "name": "stdout",
     "output_type": "stream",
     "text": [
      "['In', 'Out', '_', '__', '___', '__builtin__', '__builtins__', '__doc__', '__loader__', '__name__', '__package__', '__spec__', '_dh', '_i', '_i1', '_i2', '_i3', '_i4', '_i5', '_ih', '_ii', '_iii', '_oh', 'exit', 'get_ipython', 'language', 'pickle', 'quit', 'random']\n"
     ]
    }
   ],
   "source": [
    "import pickle\n",
    "print(dir())"
   ]
  },
  {
   "cell_type": "code",
   "execution_count": 6,
   "id": "dc3fbd51",
   "metadata": {},
   "outputs": [
    {
     "name": "stdout",
     "output_type": "stream",
     "text": [
      "['BPF', 'LOG4', 'NV_MAGICCONST', 'RECIP_BPF', 'Random', 'SG_MAGICCONST', 'SystemRandom', 'TWOPI', '_BuiltinMethodType', '_MethodType', '_Sequence', '_Set', '__all__', '__builtins__', '__cached__', '__doc__', '__file__', '__loader__', '__name__', '__package__', '__spec__', '_acos', '_bisect', '_ceil', '_cos', '_e', '_exp', '_inst', '_itertools', '_log', '_os', '_pi', '_random', '_sha512', '_sin', '_sqrt', '_test', '_test_generator', '_urandom', '_warn', 'betavariate', 'choice', 'choices', 'expovariate', 'gammavariate', 'gauss', 'getrandbits', 'getstate', 'lognormvariate', 'normalvariate', 'paretovariate', 'randint', 'random', 'randrange', 'sample', 'seed', 'setstate', 'shuffle', 'triangular', 'uniform', 'vonmisesvariate', 'weibullvariate']\n"
     ]
    }
   ],
   "source": [
    "print(dir(random))"
   ]
  },
  {
   "cell_type": "code",
   "execution_count": 7,
   "id": "3cac0281",
   "metadata": {},
   "outputs": [
    {
     "name": "stdout",
     "output_type": "stream",
     "text": [
      "['__add__', '__class__', '__contains__', '__delattr__', '__delitem__', '__dir__', '__doc__', '__eq__', '__format__', '__ge__', '__getattribute__', '__getitem__', '__gt__', '__hash__', '__iadd__', '__imul__', '__init__', '__init_subclass__', '__iter__', '__le__', '__len__', '__lt__', '__mul__', '__ne__', '__new__', '__reduce__', '__reduce_ex__', '__repr__', '__reversed__', '__rmul__', '__setattr__', '__setitem__', '__sizeof__', '__str__', '__subclasshook__', 'append', 'clear', 'copy', 'count', 'extend', 'index', 'insert', 'pop', 'remove', 'reverse', 'sort']\n"
     ]
    }
   ],
   "source": [
    "lst = [1, 2, 3]\n",
    "print(dir(lst))         # lst에서 사용할 수 있는 것들 표시"
   ]
  },
  {
   "cell_type": "code",
   "execution_count": 8,
   "id": "43bd5137",
   "metadata": {},
   "outputs": [
    {
     "name": "stdout",
     "output_type": "stream",
     "text": [
      "['__add__', '__class__', '__contains__', '__delattr__', '__dir__', '__doc__', '__eq__', '__format__', '__ge__', '__getattribute__', '__getitem__', '__getnewargs__', '__gt__', '__hash__', '__init__', '__init_subclass__', '__iter__', '__le__', '__len__', '__lt__', '__mod__', '__mul__', '__ne__', '__new__', '__reduce__', '__reduce_ex__', '__repr__', '__rmod__', '__rmul__', '__setattr__', '__sizeof__', '__str__', '__subclasshook__', 'capitalize', 'casefold', 'center', 'count', 'encode', 'endswith', 'expandtabs', 'find', 'format', 'format_map', 'index', 'isalnum', 'isalpha', 'isascii', 'isdecimal', 'isdigit', 'isidentifier', 'islower', 'isnumeric', 'isprintable', 'isspace', 'istitle', 'isupper', 'join', 'ljust', 'lower', 'lstrip', 'maketrans', 'partition', 'replace', 'rfind', 'rindex', 'rjust', 'rpartition', 'rsplit', 'rstrip', 'split', 'splitlines', 'startswith', 'strip', 'swapcase', 'title', 'translate', 'upper', 'zfill']\n"
     ]
    }
   ],
   "source": [
    "name = \"Jim\"\n",
    "print(dir(name))        # name에서 사용할 수 있는 것들 표시"
   ]
  },
  {
   "cell_type": "markdown",
   "id": "756c29ca",
   "metadata": {},
   "source": [
    "### 구글에서 list of python builtin으로 검색하면 내장 함수를 볼 수 있다."
   ]
  },
  {
   "cell_type": "markdown",
   "id": "5f5e514d",
   "metadata": {},
   "source": [
    "## 외부 함수\n",
    "### 구글에서 list of python modules 하고 검색하면 외부 함수를 볼 수 있다.\n",
    "### glob : 경로 내의 폴더 / 파일 목록 조회 (DOS에서는 dir과 같은 기능)"
   ]
  },
  {
   "cell_type": "code",
   "execution_count": 9,
   "id": "d0ad210c",
   "metadata": {},
   "outputs": [
    {
     "name": "stdout",
     "output_type": "stream",
     "text": [
      "['helloworld_0.py', 'practice_class_25.py', 'practice_continue_break_16.py', 'practice_data_type_1.py', 'practice_data_type_change_12.py', 'practice_dictionary_9.py', 'practice_error_32.py', 'practice_exception_31.py', 'practice_external_function_36.py', 'practice_file_io_22.py', 'practice_for_14.py', 'practice_function_18.py', 'practice_global_local_variable_19.py', 'practice_if_13.py', 'practice_internal_function_35.py', 'practice_list_8.py', 'practice_module_33.py', 'practice_number_proc_ftn_3.py', 'practice_operator_2.py', 'practice_overriding_26.py', 'practice_package_34.py', 'practice_pass_27.py', 'practice_pickle_23.py', 'practice_pip_install.py', 'practice_quiz_30.py', 'practice_set_11.py', 'practice_single_for_17.py', 'practice_slicing_5.py', 'practice_starcraft_29.py', 'practice_std_io_20.py', 'practice_sting_format_7.py', 'practice_string_4.py', 'practice_string_ftn_6.py', 'practice_super_28.py', 'practice_tuple_10.py', 'practice_various_out_format_21.py', 'practice_while_15.py', 'practice_with_24.py', 'theater_module.py']\n"
     ]
    }
   ],
   "source": [
    "import glob\n",
    "print(glob.glob(\"*.py\"))"
   ]
  },
  {
   "cell_type": "markdown",
   "id": "dcfaa930",
   "metadata": {},
   "source": [
    "### os : 운영체제에서 제공하는 기본 기능"
   ]
  },
  {
   "cell_type": "code",
   "execution_count": 10,
   "id": "9ae55e04",
   "metadata": {},
   "outputs": [
    {
     "name": "stdout",
     "output_type": "stream",
     "text": [
      "C:\\Users\\3DOS\\Desktop\\Python_Tutorial\n",
      "sample_dir 폴더를 생성하였습니다.\n",
      "['.ipynb_checkpoints', '.vscode', 'Chapter1.ipynb', 'Chapter10.ipynb', 'Chapter11.ipynb', 'Chapter12.ipynb', 'Chapter13.ipynb', 'Chapter14.ipynb', 'Chapter15.ipynb', 'Chapter16.ipynb', 'Chapter17.ipynb', 'Chapter2.ipynb', 'Chapter3.ipynb', 'Chapter4.ipynb', 'Chapter5.ipynb', 'Chapter6.ipynb', 'Chapter7.ipynb', 'Chapter8.ipynb', 'Chapter9.ipynb', 'helloworld_0.py', 'practice_class_25.py', 'practice_continue_break_16.py', 'practice_data_type_1.py', 'practice_data_type_change_12.py', 'practice_dictionary_9.py', 'practice_error_32.py', 'practice_exception_31.py', 'practice_external_function_36.py', 'practice_file_io_22.py', 'practice_for_14.py', 'practice_function_18.py', 'practice_global_local_variable_19.py', 'practice_if_13.py', 'practice_internal_function_35.py', 'practice_list_8.py', 'practice_module_33.py', 'practice_number_proc_ftn_3.py', 'practice_operator_2.py', 'practice_overriding_26.py', 'practice_package_34.py', 'practice_pass_27.py', 'practice_pickle_23.py', 'practice_pip_install.py', 'practice_python.zip', 'practice_quiz_30.py', 'practice_set_11.py', 'practice_single_for_17.py', 'practice_slicing_5.py', 'practice_starcraft_29.py', 'practice_std_io_20.py', 'practice_sting_format_7.py', 'practice_string_4.py', 'practice_string_ftn_6.py', 'practice_super_28.py', 'practice_tuple_10.py', 'practice_various_out_format_21.py', 'practice_while_15.py', 'practice_with_24.py', 'profile.pickle', 'sample_dir', 'score.txt', 'study.txt', 'theater_module.py', 'travel', '__pycache__']\n"
     ]
    }
   ],
   "source": [
    "import os\n",
    "print(os.getcwd())  # 현재 디렉토리 표시\n",
    "\n",
    "folder = \"sample_dir\"\n",
    "\n",
    "if os.path.exists(folder):\n",
    "    print(\"이미 존재하는 폴더입니다.\")\n",
    "    os.rmdir(folder)\n",
    "    print(folder, \"폴더를 삭제하였습니다.\")\n",
    "else:\n",
    "    os.makedirs(folder)\n",
    "    print(folder, \"폴더를 생성하였습니다.\")\n",
    "\n",
    "print(os.listdir())     # glob과 같은 기능"
   ]
  },
  {
   "cell_type": "markdown",
   "id": "63df794b",
   "metadata": {},
   "source": [
    "### time : 시간 관련 함수"
   ]
  },
  {
   "cell_type": "code",
   "execution_count": 11,
   "id": "82f8090a",
   "metadata": {},
   "outputs": [
    {
     "name": "stdout",
     "output_type": "stream",
     "text": [
      "time.struct_time(tm_year=2022, tm_mon=1, tm_mday=11, tm_hour=14, tm_min=32, tm_sec=0, tm_wday=1, tm_yday=11, tm_isdst=0)\n",
      "2022-01-11 14:32:00\n",
      "오늘 날짜는  2022-01-11\n",
      "우리가 만난지 100일은  2022-04-21\n"
     ]
    }
   ],
   "source": [
    "import time\n",
    "print(time.localtime())\n",
    "print(time.strftime(\"%Y-%m-%d %H:%M:%S\"))\n",
    "\n",
    "import datetime\n",
    "print(\"오늘 날짜는 \", datetime.date.today())\n",
    "\n",
    "today = datetime.date.today()\n",
    "td = datetime.timedelta(days=100)   # 100일 저장\n",
    "print(\"우리가 만난지 100일은 \", today + td)"
   ]
  },
  {
   "cell_type": "markdown",
   "id": "6a853600",
   "metadata": {},
   "source": [
    "# pip로 패키지를 설치하는 법\n",
    "\n",
    "구글에서 pypi를 검색 \n",
    "\n",
    "사이트에 들어가면 다양한 패키지를 확인할 수 있다.\n",
    "\n",
    "패키지를 클릭하면 pip로 설치할 수 있는 명령어가 있다.\n",
    "\n",
    "터미널 창에 복사한 pip 명령어를 붙이면 설치 완료\n",
    "\n",
    "pip list를 터미널에 입력하면 설치된 패키지를 볼 수 있음.\n",
    "\n",
    "pip show 패키지명 을 하면 패키지의 정보를 볼 수 있다.\n",
    "\n",
    "pip install --upgrade 패키지명 을 하면 패키지를 업데이트할 수 있다.\n",
    "\n",
    "pip uninstall 패키지명 을 하면 패키지를 삭제할 수 있다."
   ]
  },
  {
   "cell_type": "code",
   "execution_count": null,
   "id": "de9c2c8c",
   "metadata": {},
   "outputs": [],
   "source": []
  }
 ],
 "metadata": {
  "kernelspec": {
   "display_name": "Python 3",
   "language": "python",
   "name": "python3"
  },
  "language_info": {
   "codemirror_mode": {
    "name": "ipython",
    "version": 3
   },
   "file_extension": ".py",
   "mimetype": "text/x-python",
   "name": "python",
   "nbconvert_exporter": "python",
   "pygments_lexer": "ipython3",
   "version": "3.7.7"
  }
 },
 "nbformat": 4,
 "nbformat_minor": 5
}
