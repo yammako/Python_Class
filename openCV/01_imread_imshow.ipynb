{
 "cells": [
  {
   "cell_type": "markdown",
   "id": "c899237e",
   "metadata": {},
   "source": [
    "# OpenCV 시작하기\n",
    "## 이미지 불러와서 출력하기"
   ]
  },
  {
   "cell_type": "code",
   "execution_count": 6,
   "id": "88a33912",
   "metadata": {},
   "outputs": [],
   "source": [
    "import cv2\n",
    "img = cv2.imread('img.jpg')\n",
    "cv2.imshow('img', img)\n",
    "cv2.waitKey(0)\n",
    "cv2.destroyAllWindows()"
   ]
  },
  {
   "cell_type": "markdown",
   "id": "2fa71edc",
   "metadata": {},
   "source": [
    "## imread 옵션\n",
    "cv2.IMREAD_COLOR\n",
    "\n",
    "cv2.IMREAD_GRAYSCALE\n",
    "\n",
    "cv2.IMREAD_UNCHANGED"
   ]
  },
  {
   "cell_type": "code",
   "execution_count": 3,
   "id": "0a2e3cf3",
   "metadata": {},
   "outputs": [],
   "source": [
    "import cv2\n",
    "img_color = cv2.imread('img.jpg', cv2.IMREAD_COLOR)\n",
    "img_gray = cv2.imread('img.jpg', cv2.IMREAD_GRAYSCALE)\n",
    "img_unchanged = cv2.imread('img.jpg', cv2.IMREAD_UNCHANGED)\n",
    "\n",
    "cv2.imshow('img_color', img_color)\n",
    "cv2.imshow('img_gray', img_gray)\n",
    "cv2.imshow('img_unchanged', img_unchanged)\n",
    "cv2.waitKey(0)\n",
    "cv2.destroyAllWindows()"
   ]
  },
  {
   "cell_type": "code",
   "execution_count": null,
   "id": "9af06a9c",
   "metadata": {},
   "outputs": [],
   "source": []
  }
 ],
 "metadata": {
  "kernelspec": {
   "display_name": "Python 3",
   "language": "python",
   "name": "python3"
  },
  "language_info": {
   "codemirror_mode": {
    "name": "ipython",
    "version": 3
   },
   "file_extension": ".py",
   "mimetype": "text/x-python",
   "name": "python",
   "nbconvert_exporter": "python",
   "pygments_lexer": "ipython3",
   "version": "3.7.7"
  }
 },
 "nbformat": 4,
 "nbformat_minor": 5
}
