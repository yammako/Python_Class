{
 "cells": [
  {
   "cell_type": "markdown",
   "id": "1f4e10d8",
   "metadata": {},
   "source": [
    "## 모듈 (module) : 파일에 있는 함수를 사용\n",
    "### 예를 들어 theater_module.py라는 파일에 있는 함수를 사용한다고 하면\n",
    "### 우선 theater_module.py에 있는 함수 내용을 보자."
   ]
  },
  {
   "cell_type": "code",
   "execution_count": 1,
   "id": "7d2a152d",
   "metadata": {},
   "outputs": [],
   "source": [
    "# 일반 가격\n",
    "def price(people):\n",
    "    print(\"{0}명 가격은 {1}원 입니다.\".format(people, people * 10000))\n",
    "\n",
    "# 조조할인\n",
    "def price_morning(people):\n",
    "    print(\"{0}명 가격은 {1}원 입니다.\".format(people, people * 6000))\n",
    "\n",
    "# 군인할인\n",
    "def price_soldier(people):\n",
    "    print(\"{0}명 가격은 {1}원 입니다.\".format(people, people * 4000))"
   ]
  },
  {
   "cell_type": "markdown",
   "id": "915048f4",
   "metadata": {},
   "source": [
    "### 이제 다른  py 파일에서 theater_module을 호출해 보자"
   ]
  },
  {
   "cell_type": "code",
   "execution_count": 2,
   "id": "c13aed43",
   "metadata": {},
   "outputs": [
    {
     "name": "stdout",
     "output_type": "stream",
     "text": [
      "3명 가격은 30000원 입니다.\n",
      "4명 가격은 24000원 입니다.\n",
      "5명 가격은 20000원 입니다.\n"
     ]
    }
   ],
   "source": [
    "import theater_module\n",
    "theater_module.price(3)\n",
    "theater_module.price_morning(4)\n",
    "theater_module.price_soldier(5)"
   ]
  },
  {
   "cell_type": "markdown",
   "id": "86b6a885",
   "metadata": {},
   "source": [
    "### 모듈명을 줄여서 사용하기"
   ]
  },
  {
   "cell_type": "code",
   "execution_count": 3,
   "id": "6e34ab98",
   "metadata": {},
   "outputs": [
    {
     "name": "stdout",
     "output_type": "stream",
     "text": [
      "3명 가격은 30000원 입니다.\n",
      "4명 가격은 24000원 입니다.\n",
      "5명 가격은 20000원 입니다.\n"
     ]
    }
   ],
   "source": [
    "import theater_module as tm\n",
    "tm.price(3)\n",
    "tm.price_morning(4)\n",
    "tm.price_soldier(5)"
   ]
  },
  {
   "cell_type": "markdown",
   "id": "93678b1d",
   "metadata": {},
   "source": [
    "### 모듈명 없이 사용하기"
   ]
  },
  {
   "cell_type": "code",
   "execution_count": 4,
   "id": "bfd803c5",
   "metadata": {},
   "outputs": [
    {
     "name": "stdout",
     "output_type": "stream",
     "text": [
      "3명 가격은 30000원 입니다.\n",
      "4명 가격은 24000원 입니다.\n",
      "5명 가격은 20000원 입니다.\n"
     ]
    }
   ],
   "source": [
    "from theater_module import *\n",
    "price(3)\n",
    "price_morning(4)\n",
    "price_soldier(5)"
   ]
  },
  {
   "cell_type": "markdown",
   "id": "6daa5da4",
   "metadata": {},
   "source": [
    "### 모듈에서 필요한 함수만 가져다 사용하기"
   ]
  },
  {
   "cell_type": "code",
   "execution_count": 5,
   "id": "aa08efcb",
   "metadata": {},
   "outputs": [
    {
     "name": "stdout",
     "output_type": "stream",
     "text": [
      "3명 가격은 30000원 입니다.\n",
      "4명 가격은 24000원 입니다.\n",
      "5명 가격은 20000원 입니다.\n"
     ]
    }
   ],
   "source": [
    "from theater_module import price, price_morning\n",
    "price(3)\n",
    "price_morning(4)\n",
    "\n",
    "from theater_module import price_soldier as price \n",
    "price(5)        # price_soldier를 price로 변경해서 사용"
   ]
  },
  {
   "cell_type": "code",
   "execution_count": null,
   "id": "09f2e926",
   "metadata": {},
   "outputs": [],
   "source": []
  }
 ],
 "metadata": {
  "kernelspec": {
   "display_name": "Python 3",
   "language": "python",
   "name": "python3"
  },
  "language_info": {
   "codemirror_mode": {
    "name": "ipython",
    "version": 3
   },
   "file_extension": ".py",
   "mimetype": "text/x-python",
   "name": "python",
   "nbconvert_exporter": "python",
   "pygments_lexer": "ipython3",
   "version": "3.7.7"
  }
 },
 "nbformat": 4,
 "nbformat_minor": 5
}
